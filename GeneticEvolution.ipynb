{
  "nbformat": 4,
  "nbformat_minor": 0,
  "metadata": {
    "colab": {
      "name": "GeneticEvolution.ipynb",
      "provenance": [],
      "collapsed_sections": [
        "pDZAXx-RZPLQ",
        "S97JnsLRYXzY",
        "GGU0KSC3E2va",
        "5n21ikbgDecO",
        "KnHcFqll-rXN",
        "pTG3go-e9vxT",
        "SAwVqkvdiUc7",
        "tdWkHkOii-WI",
        "hX9DEZNLi__K",
        "ncvnWkKgTYQa",
        "i71CcbrNTe3z",
        "pNW59h3kTpgQ",
        "-nl53sxclEpz",
        "C-t2nt3pCrWQ",
        "_QBEv_O6MUnA",
        "C292-OOHBb3w",
        "15xGGtkm5h_U",
        "gUGiKZiM74dV",
        "EZT-HYqd9Yud"
      ],
      "authorship_tag": "ABX9TyOdIP6siiTt5PL20oE1FP0C",
      "include_colab_link": true
    },
    "kernelspec": {
      "name": "python3",
      "display_name": "Python 3"
    },
    "language_info": {
      "name": "python"
    }
  },
  "cells": [
    {
      "cell_type": "markdown",
      "metadata": {
        "id": "view-in-github",
        "colab_type": "text"
      },
      "source": [
        "<a href=\"https://colab.research.google.com/github/miguelruor/GeneticEvolution/blob/main/GeneticEvolution.ipynb\" target=\"_parent\"><img src=\"https://colab.research.google.com/assets/colab-badge.svg\" alt=\"Open In Colab\"/></a>"
      ]
    },
    {
      "cell_type": "markdown",
      "metadata": {
        "id": "Q4t6BYtfY8L4"
      },
      "source": [
        "Notebook for computing an estimation of Hitting Time with random time between measurements with Exponential Distribution. This means every measure time is given by the jumps of a Poisson Process"
      ]
    },
    {
      "cell_type": "markdown",
      "metadata": {
        "id": "pDZAXx-RZPLQ"
      },
      "source": [
        "# Libraries"
      ]
    },
    {
      "cell_type": "code",
      "metadata": {
        "id": "C1jeteFEqwf-"
      },
      "source": [
        "import networkx as nx\n",
        "import numpy as np\n",
        "import matplotlib.pyplot as plt\n",
        "from scipy.sparse.linalg import expm\n",
        "from scipy.sparse import csr_matrix\n",
        "from scipy.linalg import norm\n",
        "from scipy.sparse.linalg import expm_multiply\n",
        "from scipy.stats import expon\n",
        "import pandas as pd\n",
        "import json\n",
        "import uuid"
      ],
      "execution_count": 1,
      "outputs": []
    },
    {
      "cell_type": "code",
      "metadata": {
        "id": "qbagoB82CegX"
      },
      "source": [
        "from pathlib import Path\n",
        "\n",
        "# Function to read all name files in a folder\n",
        "def ls(ruta = Path.cwd()): \n",
        "    return [arch.name for arch in Path(ruta).iterdir() if arch.is_file()]"
      ],
      "execution_count": 2,
      "outputs": []
    },
    {
      "cell_type": "code",
      "metadata": {
        "colab": {
          "base_uri": "https://localhost:8080/"
        },
        "id": "j4dkKgnkZoEd",
        "outputId": "3a2032db-346a-4f9d-d064-3db2e84f22f4"
      },
      "source": [
        "from google.colab import drive\n",
        "drive.mount('/content/drive')"
      ],
      "execution_count": 3,
      "outputs": [
        {
          "output_type": "stream",
          "text": [
            "Mounted at /content/drive\n"
          ],
          "name": "stdout"
        }
      ]
    },
    {
      "cell_type": "markdown",
      "metadata": {
        "id": "S97JnsLRYXzY"
      },
      "source": [
        "# Importation of graphs"
      ]
    },
    {
      "cell_type": "code",
      "metadata": {
        "id": "azKdlFaIzs0g"
      },
      "source": [
        "dir_file_2phen = \"/content/drive/My Drive/Thesis/Code/newData/paperBased/gspace_2phen/genotype_space/gspace.gml\"\n",
        "dir_file_4phen = \"/content/drive/My Drive/Thesis/Code/newData/paperBased/gspace_4phen/genotype_space/gspace.gml\""
      ],
      "execution_count": 4,
      "outputs": []
    },
    {
      "cell_type": "code",
      "metadata": {
        "id": "osTaebrYf8eJ"
      },
      "source": [
        "gspace_2phen = nx.read_gml(dir_file_2phen, label='id')\n",
        "gspace_4phen = nx.read_gml(dir_file_4phen, label='id')"
      ],
      "execution_count": 5,
      "outputs": []
    },
    {
      "cell_type": "markdown",
      "metadata": {
        "id": "GGU0KSC3E2va"
      },
      "source": [
        "# Identifying genotype networks"
      ]
    },
    {
      "cell_type": "markdown",
      "metadata": {
        "id": "5n21ikbgDecO"
      },
      "source": [
        "### Maximum number of steps to find a novel phenotype"
      ]
    },
    {
      "cell_type": "code",
      "metadata": {
        "colab": {
          "base_uri": "https://localhost:8080/"
        },
        "id": "VknDKTYTYj-K",
        "outputId": "c1bd3037-8dcb-4ff4-b6bc-fe72a9c7d66d"
      },
      "source": [
        "gspace_2phen.nodes[0].keys()"
      ],
      "execution_count": 6,
      "outputs": [
        {
          "output_type": "execute_result",
          "data": {
            "text/plain": [
              "dict_keys(['label', 'sequence', 'phenotypeName', 'phenotypeIndex', 'node_novelPhen', 'steps_novelPhen', 'nodes_novelPhen'])"
            ]
          },
          "metadata": {
            "tags": []
          },
          "execution_count": 6
        }
      ]
    },
    {
      "cell_type": "code",
      "metadata": {
        "colab": {
          "base_uri": "https://localhost:8080/"
        },
        "id": "rcXQnrWwYtEX",
        "outputId": "6b40de91-34cd-42dd-fa19-33a98cf10b9d"
      },
      "source": [
        "gspace_2phen.nodes[0]['steps_novelPhen']"
      ],
      "execution_count": 7,
      "outputs": [
        {
          "output_type": "execute_result",
          "data": {
            "text/plain": [
              "1"
            ]
          },
          "metadata": {
            "tags": []
          },
          "execution_count": 7
        }
      ]
    },
    {
      "cell_type": "code",
      "metadata": {
        "colab": {
          "base_uri": "https://localhost:8080/"
        },
        "id": "qcBXHLrhuGi0",
        "outputId": "e1df9cc9-2e31-4114-d341-53b40a34c399"
      },
      "source": [
        "maxSteps = 0\n",
        "\n",
        "for v in gspace_4phen.nodes:\n",
        "  if gspace_4phen.nodes[v]['steps_novelPhen'] != 'infinity' and gspace_4phen.nodes[v]['steps_novelPhen'] > maxSteps:\n",
        "    maxSteps = gspace_4phen.nodes[v]['steps_novelPhen']\n",
        "  \n",
        "maxSteps"
      ],
      "execution_count": 8,
      "outputs": [
        {
          "output_type": "execute_result",
          "data": {
            "text/plain": [
              "5"
            ]
          },
          "metadata": {
            "tags": []
          },
          "execution_count": 8
        }
      ]
    },
    {
      "cell_type": "code",
      "metadata": {
        "colab": {
          "base_uri": "https://localhost:8080/"
        },
        "id": "IueM4SRpeEIk",
        "outputId": "1f75d51f-7501-4842-ece7-c37726415d2d"
      },
      "source": [
        "maxSteps_2 = 0\n",
        "\n",
        "for v in gspace_2phen.nodes:\n",
        "  if gspace_2phen.nodes[v]['steps_novelPhen'] != 'infinity' and gspace_2phen.nodes[v]['steps_novelPhen'] > maxSteps_2:\n",
        "    maxSteps_2 = gspace_2phen.nodes[v]['steps_novelPhen']\n",
        "  \n",
        "maxSteps_2"
      ],
      "execution_count": 9,
      "outputs": [
        {
          "output_type": "execute_result",
          "data": {
            "text/plain": [
              "8"
            ]
          },
          "metadata": {
            "tags": []
          },
          "execution_count": 9
        }
      ]
    },
    {
      "cell_type": "markdown",
      "metadata": {
        "id": "V9Q5hZYFAnSJ"
      },
      "source": [
        "Genotypes at n steps away from a novel phenotype, n=1,2,3,..., maxSteps (four phenotype graph)"
      ]
    },
    {
      "cell_type": "code",
      "metadata": {
        "id": "IJ8bx30lAmUd"
      },
      "source": [
        "vertex_nSteps = {}\n",
        "for n in range(1, maxSteps+1):\n",
        "  vertex_nSteps[n] = []\n",
        "vertex_nSteps['infinity'] = []\n",
        "\n",
        "for v in gspace_4phen.nodes:\n",
        "  vertex_nSteps[gspace_4phen.nodes[v]['steps_novelPhen']].append(v)"
      ],
      "execution_count": 10,
      "outputs": []
    },
    {
      "cell_type": "code",
      "metadata": {
        "colab": {
          "base_uri": "https://localhost:8080/"
        },
        "id": "_42WOIUIZzx7",
        "outputId": "fcf2b813-c483-41e8-c50d-2f4316e97c40"
      },
      "source": [
        "for i in vertex_nSteps:\n",
        "  print(\"Nodos a\", i, \"pasos de encontrar un nuevo fenotipo: \", len(vertex_nSteps[i]))"
      ],
      "execution_count": 11,
      "outputs": [
        {
          "output_type": "stream",
          "text": [
            "Nodos a 1 pasos de encontrar un nuevo fenotipo:  254\n",
            "Nodos a 2 pasos de encontrar un nuevo fenotipo:  205\n",
            "Nodos a 3 pasos de encontrar un nuevo fenotipo:  99\n",
            "Nodos a 4 pasos de encontrar un nuevo fenotipo:  18\n",
            "Nodos a 5 pasos de encontrar un nuevo fenotipo:  3\n",
            "Nodos a infinity pasos de encontrar un nuevo fenotipo:  0\n"
          ],
          "name": "stdout"
        }
      ]
    },
    {
      "cell_type": "markdown",
      "metadata": {
        "id": "MDV9GZAVZzx-"
      },
      "source": [
        "Genotypes at n steps away from a novel phenotype, n=1,2,3,..., maxSteps (two phenotype graph)"
      ]
    },
    {
      "cell_type": "code",
      "metadata": {
        "id": "SIoBB-CaZzyA"
      },
      "source": [
        "vertex_nSteps_2 = {}\n",
        "for n in range(1, maxSteps_2+1):\n",
        "  vertex_nSteps_2[n] = []\n",
        "vertex_nSteps_2['infinity'] = []\n",
        "\n",
        "for v in gspace_2phen.nodes:\n",
        "  vertex_nSteps_2[gspace_2phen.nodes[v]['steps_novelPhen']].append(v)"
      ],
      "execution_count": 12,
      "outputs": []
    },
    {
      "cell_type": "code",
      "metadata": {
        "colab": {
          "base_uri": "https://localhost:8080/"
        },
        "id": "lgd08B_5BKgv",
        "outputId": "46578051-1744-49b4-f3e2-ad25b3c98e59"
      },
      "source": [
        "for i in vertex_nSteps_2:\n",
        "  print(\"Nodos a\", i, \"pasos de encontrar un nuevo fenotipo: \", len(vertex_nSteps_2[i]))"
      ],
      "execution_count": 13,
      "outputs": [
        {
          "output_type": "stream",
          "text": [
            "Nodos a 1 pasos de encontrar un nuevo fenotipo:  87\n",
            "Nodos a 2 pasos de encontrar un nuevo fenotipo:  136\n",
            "Nodos a 3 pasos de encontrar un nuevo fenotipo:  114\n",
            "Nodos a 4 pasos de encontrar un nuevo fenotipo:  36\n",
            "Nodos a 5 pasos de encontrar un nuevo fenotipo:  12\n",
            "Nodos a 6 pasos de encontrar un nuevo fenotipo:  6\n",
            "Nodos a 7 pasos de encontrar un nuevo fenotipo:  4\n",
            "Nodos a 8 pasos de encontrar un nuevo fenotipo:  1\n",
            "Nodos a infinity pasos de encontrar un nuevo fenotipo:  0\n"
          ],
          "name": "stdout"
        }
      ]
    },
    {
      "cell_type": "markdown",
      "metadata": {
        "id": "KnHcFqll-rXN"
      },
      "source": [
        "### Identifying genotype networks"
      ]
    },
    {
      "cell_type": "code",
      "metadata": {
        "id": "1XvyzWeRKWwP"
      },
      "source": [
        "phenIndex_4phen = {'Ascl2': 0, 'Bbx': 1, 'Foxa2': 2, 'Mafb': 3}\n",
        "phenIndex_2phen = {'Bbx': 0, 'Foxa2': 1}"
      ],
      "execution_count": 14,
      "outputs": []
    },
    {
      "cell_type": "code",
      "metadata": {
        "id": "amrfhQNI_Ah_"
      },
      "source": [
        "genotype_networks_4phen = {'Ascl2': {}, 'Bbx': {}, \n",
        "                           'Foxa2': {}, 'Mafb': {}}\n",
        "genotype_networks_2phen = {'Bbx': {}, 'Foxa2': {}}"
      ],
      "execution_count": 15,
      "outputs": []
    },
    {
      "cell_type": "code",
      "metadata": {
        "id": "LzhdidR6Bsth"
      },
      "source": [
        "for phen in phenIndex_4phen:\n",
        "  genotype_networks_4phen[phen]['phenotype'] = phen\n",
        "  genotype_networks_4phen[phen]['phenotype_id'] = phenIndex_4phen[phen]\n",
        "  genotype_networks_4phen[phen]['nodes'] = []\n",
        "  genotype_networks_4phen[phen]['total_nodes'] = 0\n",
        "\n",
        "for phen in phenIndex_2phen:\n",
        "  genotype_networks_2phen[phen]['phenotype'] = phen\n",
        "  genotype_networks_2phen[phen]['phenotype_id'] = phenIndex_2phen[phen]\n",
        "  genotype_networks_2phen[phen]['nodes'] = []\n",
        "  genotype_networks_2phen[phen]['total_nodes'] = 0"
      ],
      "execution_count": 16,
      "outputs": []
    },
    {
      "cell_type": "code",
      "metadata": {
        "id": "Zxe26w3Y_KBl"
      },
      "source": [
        "for v in gspace_4phen.nodes:\n",
        "  for phen in gspace_4phen.nodes[v]['phenotypeName']:\n",
        "    genotype_networks_4phen[phen]['nodes'].append(v)\n",
        "    genotype_networks_4phen[phen]['total_nodes'] += 1\n",
        "\n",
        "for v in gspace_2phen.nodes:\n",
        "  for phen in gspace_2phen.nodes[v]['phenotypeName']:\n",
        "    genotype_networks_2phen[phen]['nodes'].append(v)\n",
        "    genotype_networks_2phen[phen]['total_nodes'] += 1"
      ],
      "execution_count": 17,
      "outputs": []
    },
    {
      "cell_type": "code",
      "metadata": {
        "colab": {
          "base_uri": "https://localhost:8080/"
        },
        "id": "VqaeJmMufr5b",
        "outputId": "d685498b-bd1c-49fd-bd3b-948a70b5f884"
      },
      "source": [
        "print(genotype_networks_2phen['Foxa2']['total_nodes'])\n",
        "print(genotype_networks_2phen['Bbx']['total_nodes'])\n",
        "print(len(gspace_2phen.nodes))\n",
        "print(len(set(genotype_networks_2phen['Foxa2']['nodes']).intersection(set(genotype_networks_2phen['Bbx']['nodes']))))"
      ],
      "execution_count": 18,
      "outputs": [
        {
          "output_type": "stream",
          "text": [
            "325\n",
            "71\n",
            "396\n",
            "0\n"
          ],
          "name": "stdout"
        }
      ]
    },
    {
      "cell_type": "code",
      "metadata": {
        "colab": {
          "base_uri": "https://localhost:8080/"
        },
        "id": "J31XU6OFCYFu",
        "outputId": "8c71845b-6c33-4d47-a1b9-2ed0072f342c"
      },
      "source": [
        "print(genotype_networks_4phen['Mafb']['total_nodes'])\n",
        "print(genotype_networks_4phen['Ascl2']['total_nodes'])\n",
        "print(genotype_networks_4phen['Foxa2']['total_nodes'])\n",
        "print(genotype_networks_4phen['Bbx']['total_nodes'])\n",
        "print(len(gspace_4phen.nodes))"
      ],
      "execution_count": 19,
      "outputs": [
        {
          "output_type": "stream",
          "text": [
            "112\n",
            "76\n",
            "328\n",
            "74\n",
            "579\n"
          ],
          "name": "stdout"
        }
      ]
    },
    {
      "cell_type": "code",
      "metadata": {
        "colab": {
          "base_uri": "https://localhost:8080/"
        },
        "id": "UW9o8gPLgJF4",
        "outputId": "1348c035-ea70-4575-bd78-71b50cf1e0b5"
      },
      "source": [
        "genotype_networks_4phen['Mafb'].keys()"
      ],
      "execution_count": 20,
      "outputs": [
        {
          "output_type": "execute_result",
          "data": {
            "text/plain": [
              "dict_keys(['phenotype', 'phenotype_id', 'nodes', 'total_nodes'])"
            ]
          },
          "metadata": {
            "tags": []
          },
          "execution_count": 20
        }
      ]
    },
    {
      "cell_type": "code",
      "metadata": {
        "colab": {
          "base_uri": "https://localhost:8080/"
        },
        "id": "iq5fyrRSXZji",
        "outputId": "01e03ade-fc20-405b-8c64-8462cfca0f65"
      },
      "source": [
        "gspace_4phen.nodes[0].keys()"
      ],
      "execution_count": 21,
      "outputs": [
        {
          "output_type": "execute_result",
          "data": {
            "text/plain": [
              "dict_keys(['label', 'sequence', 'phenotypeName', 'phenotypeIndex', 'node_novelPhen', 'steps_novelPhen', 'nodes_novelPhen'])"
            ]
          },
          "metadata": {
            "tags": []
          },
          "execution_count": 21
        }
      ]
    },
    {
      "cell_type": "code",
      "metadata": {
        "colab": {
          "base_uri": "https://localhost:8080/"
        },
        "id": "eZz8S1N5ms1I",
        "outputId": "59f976bd-7d26-4215-cfef-a9d465a587a9"
      },
      "source": [
        "for phen in phenIndex_4phen:\n",
        "  for n in vertex_nSteps:\n",
        "    vertex_nSteps_phen = set(vertex_nSteps[n]).intersection(set(genotype_networks_4phen[phen]['nodes']))\n",
        "    print(\"Nodes in genotype network of\", phen, \"at\", n, \"steps from novel phenotype:\", len(vertex_nSteps_phen))"
      ],
      "execution_count": 22,
      "outputs": [
        {
          "output_type": "stream",
          "text": [
            "Nodes in genotype network of Ascl2 at 1 steps from novel phenotype: 4\n",
            "Nodes in genotype network of Ascl2 at 2 steps from novel phenotype: 19\n",
            "Nodes in genotype network of Ascl2 at 3 steps from novel phenotype: 36\n",
            "Nodes in genotype network of Ascl2 at 4 steps from novel phenotype: 15\n",
            "Nodes in genotype network of Ascl2 at 5 steps from novel phenotype: 2\n",
            "Nodes in genotype network of Ascl2 at infinity steps from novel phenotype: 0\n",
            "Nodes in genotype network of Bbx at 1 steps from novel phenotype: 38\n",
            "Nodes in genotype network of Bbx at 2 steps from novel phenotype: 27\n",
            "Nodes in genotype network of Bbx at 3 steps from novel phenotype: 8\n",
            "Nodes in genotype network of Bbx at 4 steps from novel phenotype: 1\n",
            "Nodes in genotype network of Bbx at 5 steps from novel phenotype: 0\n",
            "Nodes in genotype network of Bbx at infinity steps from novel phenotype: 0\n",
            "Nodes in genotype network of Foxa2 at 1 steps from novel phenotype: 147\n",
            "Nodes in genotype network of Foxa2 at 2 steps from novel phenotype: 131\n",
            "Nodes in genotype network of Foxa2 at 3 steps from novel phenotype: 48\n",
            "Nodes in genotype network of Foxa2 at 4 steps from novel phenotype: 1\n",
            "Nodes in genotype network of Foxa2 at 5 steps from novel phenotype: 1\n",
            "Nodes in genotype network of Foxa2 at infinity steps from novel phenotype: 0\n",
            "Nodes in genotype network of Mafb at 1 steps from novel phenotype: 66\n",
            "Nodes in genotype network of Mafb at 2 steps from novel phenotype: 33\n",
            "Nodes in genotype network of Mafb at 3 steps from novel phenotype: 11\n",
            "Nodes in genotype network of Mafb at 4 steps from novel phenotype: 1\n",
            "Nodes in genotype network of Mafb at 5 steps from novel phenotype: 1\n",
            "Nodes in genotype network of Mafb at infinity steps from novel phenotype: 0\n"
          ],
          "name": "stdout"
        }
      ]
    },
    {
      "cell_type": "code",
      "metadata": {
        "colab": {
          "base_uri": "https://localhost:8080/"
        },
        "id": "zaN6TSTQnze1",
        "outputId": "82072388-7ff9-4992-cef4-7c79cbe940f9"
      },
      "source": [
        "for phen in phenIndex_2phen:\n",
        "  for n in vertex_nSteps_2:\n",
        "    vertex_nSteps_phen = set(vertex_nSteps_2[n]).intersection(set(genotype_networks_2phen[phen]['nodes']))\n",
        "    print(\"Nodes in genotype network of\", phen, \"at\", n, \"steps from novel phenotype:\", len(vertex_nSteps_phen))"
      ],
      "execution_count": 23,
      "outputs": [
        {
          "output_type": "stream",
          "text": [
            "Nodes in genotype network of Bbx at 1 steps from novel phenotype: 37\n",
            "Nodes in genotype network of Bbx at 2 steps from novel phenotype: 25\n",
            "Nodes in genotype network of Bbx at 3 steps from novel phenotype: 8\n",
            "Nodes in genotype network of Bbx at 4 steps from novel phenotype: 1\n",
            "Nodes in genotype network of Bbx at 5 steps from novel phenotype: 0\n",
            "Nodes in genotype network of Bbx at 6 steps from novel phenotype: 0\n",
            "Nodes in genotype network of Bbx at 7 steps from novel phenotype: 0\n",
            "Nodes in genotype network of Bbx at 8 steps from novel phenotype: 0\n",
            "Nodes in genotype network of Bbx at infinity steps from novel phenotype: 0\n",
            "Nodes in genotype network of Foxa2 at 1 steps from novel phenotype: 50\n",
            "Nodes in genotype network of Foxa2 at 2 steps from novel phenotype: 111\n",
            "Nodes in genotype network of Foxa2 at 3 steps from novel phenotype: 106\n",
            "Nodes in genotype network of Foxa2 at 4 steps from novel phenotype: 35\n",
            "Nodes in genotype network of Foxa2 at 5 steps from novel phenotype: 12\n",
            "Nodes in genotype network of Foxa2 at 6 steps from novel phenotype: 6\n",
            "Nodes in genotype network of Foxa2 at 7 steps from novel phenotype: 4\n",
            "Nodes in genotype network of Foxa2 at 8 steps from novel phenotype: 1\n",
            "Nodes in genotype network of Foxa2 at infinity steps from novel phenotype: 0\n"
          ],
          "name": "stdout"
        }
      ]
    },
    {
      "cell_type": "code",
      "metadata": {
        "colab": {
          "base_uri": "https://localhost:8080/"
        },
        "id": "4Yu9EhkXH6hP",
        "outputId": "525f107f-39f7-4f95-b2f2-93131c86af37"
      },
      "source": [
        "for v in genotype_networks_4phen['Ascl2']['nodes']:\n",
        "  if gspace_4phen.nodes[v]['sequence'] == 'CAGCTGAC':\n",
        "    print(v)"
      ],
      "execution_count": 24,
      "outputs": [
        {
          "output_type": "stream",
          "text": [
            "10\n"
          ],
          "name": "stdout"
        }
      ]
    },
    {
      "cell_type": "code",
      "metadata": {
        "colab": {
          "base_uri": "https://localhost:8080/"
        },
        "id": "MEe-MVkiIl0x",
        "outputId": "756d433a-1d20-46a9-e5e0-ebc57a3257a7"
      },
      "source": [
        "for v in genotype_networks_4phen['Mafb']['nodes']:\n",
        "  if gspace_4phen.nodes[v]['sequence'] == 'CTGCTGAC':\n",
        "    print(v)"
      ],
      "execution_count": 25,
      "outputs": [
        {
          "output_type": "stream",
          "text": [
            "542\n"
          ],
          "name": "stdout"
        }
      ]
    },
    {
      "cell_type": "markdown",
      "metadata": {
        "id": "pTG3go-e9vxT"
      },
      "source": [
        "# Auxiliar functions"
      ]
    },
    {
      "cell_type": "code",
      "metadata": {
        "id": "PXt4f6fB6Kst"
      },
      "source": [
        "np.random.seed(2021)"
      ],
      "execution_count": 26,
      "outputs": []
    },
    {
      "cell_type": "code",
      "metadata": {
        "id": "6uUvcJ4d5t7h"
      },
      "source": [
        "# function that returns a random genotype in a genotype network\n",
        "def randomInitialGenotype(phenotype):\n",
        "  return np.random.choice(genotype_networks_4phen[phenotype]['nodes'])\n",
        "\n",
        "# function that returns a random genotype in a genotype network at n steps of finding a novel phenotype\n",
        "def randomInitialGenotypeNSteps(phenotype, n):\n",
        "  return np.random.choice(list(set(vertex_nSteps[n]).intersection(set(genotype_networks_4phen[phenotype]['nodes'])))) \n",
        "\n",
        "# index of the sequence given\n",
        "def sequenceIndex(sequence):\n",
        "  for v in gspace_4phen.nodes:\n",
        "    if sequence == gspace_4phen.nodes[v]['sequence']:\n",
        "      return v"
      ],
      "execution_count": 27,
      "outputs": []
    },
    {
      "cell_type": "markdown",
      "metadata": {
        "id": "iDAc5aF7EsWB"
      },
      "source": [
        "Function to obtain the distance between two DNA sequences"
      ]
    },
    {
      "cell_type": "code",
      "metadata": {
        "id": "wfQ5ZWNEEweq"
      },
      "source": [
        "def distance(sequence1, sequence2):\n",
        "  dist = 0\n",
        "  N = len(sequence1)\n",
        "\n",
        "  for i in range(N):\n",
        "    if sequence1[i] != sequence2[i]:\n",
        "      dist += 1\n",
        "\n",
        "  return dist"
      ],
      "execution_count": null,
      "outputs": []
    },
    {
      "cell_type": "markdown",
      "metadata": {
        "id": "SAwVqkvdiUc7"
      },
      "source": [
        "# Quantum genetic evolution (CTQW)"
      ]
    },
    {
      "cell_type": "markdown",
      "metadata": {
        "id": "tdWkHkOii-WI"
      },
      "source": [
        "### Auxiliar functions"
      ]
    },
    {
      "cell_type": "markdown",
      "metadata": {
        "id": "OxQqBOzUS4Bp"
      },
      "source": [
        "Function to obtain the Hamiltonian associated to a given graph and the mutation rate"
      ]
    },
    {
      "cell_type": "code",
      "metadata": {
        "id": "12IK3JlvS9AY"
      },
      "source": [
        "def giveMeHamiltonian(G, gamma, typeMatrix=\"laplacian\"):\n",
        "  # typeMatrix could be \"adjacency\" to use the adjacency matrix based Hamiltoninan \n",
        "  # or \"laplacian\" (default) to use the Laplacian matrix based Hamiltonian\n",
        "  # gamma is the mutation rate \n",
        "\n",
        "  if typeMatrix == \"adjacency\":\n",
        "    A = nx.adjacency_matrix(G)\n",
        "  else:\n",
        "    A = nx.laplacian_matrix(G)\n",
        "\n",
        "  H = -gamma* A\n",
        "\n",
        "  return H"
      ],
      "execution_count": 124,
      "outputs": []
    },
    {
      "cell_type": "markdown",
      "metadata": {
        "id": "0VkLqt3pfCmt"
      },
      "source": [
        "Function to calculate the i-th canonical vector in $C^n$"
      ]
    },
    {
      "cell_type": "code",
      "metadata": {
        "id": "9Cux3Pen5BrJ"
      },
      "source": [
        "def canonical_vector(i, n):\n",
        "  # i-esimo vector canonico en C^n\n",
        "  ei = np.zeros(n)\n",
        "  ei[i] = 1.0\n",
        "  return ei"
      ],
      "execution_count": 125,
      "outputs": []
    },
    {
      "cell_type": "markdown",
      "metadata": {
        "id": "LF3_AK7Lz2LU"
      },
      "source": [
        "Function to simulate a measurement of the quantum walk"
      ]
    },
    {
      "cell_type": "code",
      "metadata": {
        "id": "ZGxxgt9yz5vx"
      },
      "source": [
        "def measurement(state, basis):\n",
        "  # state is a vector in C^N\n",
        "\n",
        "  qprobs = [abs(state[v])**2 for v in basis]\n",
        "  collapse = np.random.choice(basis, p=qprobs)\n",
        "\n",
        "  return collapse"
      ],
      "execution_count": 169,
      "outputs": []
    },
    {
      "cell_type": "code",
      "metadata": {
        "colab": {
          "base_uri": "https://localhost:8080/"
        },
        "id": "zwRyCCL0V1ks",
        "outputId": "b05201d1-3c46-4bd1-fc06-5da1c227aa46"
      },
      "source": [
        "state = [(0.5)**(0.5), (0.5j)**(0.5)]\n",
        "basis = [0, 1]\n",
        "print(measurement(state, basis))"
      ],
      "execution_count": 170,
      "outputs": [
        {
          "output_type": "stream",
          "text": [
            "1\n"
          ],
          "name": "stdout"
        }
      ]
    },
    {
      "cell_type": "markdown",
      "metadata": {
        "id": "hX9DEZNLi__K"
      },
      "source": [
        "### Write and reading\n",
        "\n"
      ]
    },
    {
      "cell_type": "code",
      "metadata": {
        "id": "76557DZKczH3"
      },
      "source": [
        "#parameters = pd.DataFrame(columns=['initial_phen', 'initial_gen', 'initial_gen_index', 'max_measurements', 'measurement_rate', 'transition_rate'])"
      ],
      "execution_count": 138,
      "outputs": []
    },
    {
      "cell_type": "code",
      "metadata": {
        "id": "cAx6JzzsmWo7"
      },
      "source": [
        "#estimations_results = pd.DataFrame(columns=['tau_Ascl2_prom (seconds)', 'tau_Ascl2_prom (days)', 'N_Ascl2_prom', \n",
        "#                  'tau_Bbx_prom (seconds)', 'tau_Bbx_prom (days)', 'N_Bbx_prom', 'tau_Mafb_prom (seconds)', \n",
        "#                  'tau_Mafb_prom (days)', 'N_Mafb_prom', 'tau_Foxa2_prom (seconds)', 'tau_Foxa2_prom (days)', 'N_Foxa2_prom'])\n",
        "\n",
        "#simulations_results = pd.DataFrame(columns =['parameters_index', 'tau_Ascl2', \"tau_Bbx\", \"tau_Foxa2\", \"tau_Mafb\", 'N_Ascl2', \n",
        "#                  \"N_Bbx\", \"N_Foxa2\", \"N_Mafb\"])"
      ],
      "execution_count": 130,
      "outputs": []
    },
    {
      "cell_type": "markdown",
      "metadata": {
        "id": "COlKIdeYB6a4"
      },
      "source": [
        "Read last results"
      ]
    },
    {
      "cell_type": "code",
      "metadata": {
        "id": "78YO5FQC8Vls"
      },
      "source": [
        "parameters = pd.read_csv(\"/content/drive/My Drive/Thesis/Code/newData/paperBased/gspace_4phen/QW_parameters.csv\", index_col=0)\n",
        "simulations_results = pd.read_csv(\"/content/drive/My Drive/Thesis/Code/newData/paperBased/gspace_4phen/QW_simulations_results.csv\", index_col=0)\n",
        "estimations_results = pd.read_csv(\"/content/drive/My Drive/Thesis/Code/newData/paperBased/gspace_4phen/QW_estimation_results.csv\", index_col=0)"
      ],
      "execution_count": 120,
      "outputs": []
    },
    {
      "cell_type": "code",
      "metadata": {
        "colab": {
          "base_uri": "https://localhost:8080/",
          "height": 49
        },
        "id": "1xzhNShDuTDX",
        "outputId": "3e722f1e-ec29-4d90-d936-44a39a5eb8c2"
      },
      "source": [
        "simulations_results"
      ],
      "execution_count": 131,
      "outputs": [
        {
          "output_type": "execute_result",
          "data": {
            "text/html": [
              "<div>\n",
              "<style scoped>\n",
              "    .dataframe tbody tr th:only-of-type {\n",
              "        vertical-align: middle;\n",
              "    }\n",
              "\n",
              "    .dataframe tbody tr th {\n",
              "        vertical-align: top;\n",
              "    }\n",
              "\n",
              "    .dataframe thead th {\n",
              "        text-align: right;\n",
              "    }\n",
              "</style>\n",
              "<table border=\"1\" class=\"dataframe\">\n",
              "  <thead>\n",
              "    <tr style=\"text-align: right;\">\n",
              "      <th></th>\n",
              "      <th>parameters_index</th>\n",
              "      <th>tau_Ascl2</th>\n",
              "      <th>tau_Bbx</th>\n",
              "      <th>tau_Foxa2</th>\n",
              "      <th>tau_Mafb</th>\n",
              "      <th>N_Ascl2</th>\n",
              "      <th>N_Bbx</th>\n",
              "      <th>N_Foxa2</th>\n",
              "      <th>N_Mafb</th>\n",
              "    </tr>\n",
              "  </thead>\n",
              "  <tbody>\n",
              "  </tbody>\n",
              "</table>\n",
              "</div>"
            ],
            "text/plain": [
              "Empty DataFrame\n",
              "Columns: [parameters_index, tau_Ascl2, tau_Bbx, tau_Foxa2, tau_Mafb, N_Ascl2, N_Bbx, N_Foxa2, N_Mafb]\n",
              "Index: []"
            ]
          },
          "metadata": {
            "tags": []
          },
          "execution_count": 131
        }
      ]
    },
    {
      "cell_type": "code",
      "metadata": {
        "colab": {
          "base_uri": "https://localhost:8080/",
          "height": 86
        },
        "id": "KNM1lgyguVDR",
        "outputId": "f4e62a9a-d617-4b6e-9694-8567dbef6e09"
      },
      "source": [
        "estimations_results"
      ],
      "execution_count": 132,
      "outputs": [
        {
          "output_type": "execute_result",
          "data": {
            "text/html": [
              "<div>\n",
              "<style scoped>\n",
              "    .dataframe tbody tr th:only-of-type {\n",
              "        vertical-align: middle;\n",
              "    }\n",
              "\n",
              "    .dataframe tbody tr th {\n",
              "        vertical-align: top;\n",
              "    }\n",
              "\n",
              "    .dataframe thead th {\n",
              "        text-align: right;\n",
              "    }\n",
              "</style>\n",
              "<table border=\"1\" class=\"dataframe\">\n",
              "  <thead>\n",
              "    <tr style=\"text-align: right;\">\n",
              "      <th></th>\n",
              "      <th>tau_Ascl2_prom (seconds)</th>\n",
              "      <th>tau_Ascl2_prom (days)</th>\n",
              "      <th>N_Ascl2_prom</th>\n",
              "      <th>tau_Bbx_prom (seconds)</th>\n",
              "      <th>tau_Bbx_prom (days)</th>\n",
              "      <th>N_Bbx_prom</th>\n",
              "      <th>tau_Mafb_prom (seconds)</th>\n",
              "      <th>tau_Mafb_prom (days)</th>\n",
              "      <th>N_Mafb_prom</th>\n",
              "      <th>tau_Foxa2_prom (seconds)</th>\n",
              "      <th>tau_Foxa2_prom (days)</th>\n",
              "      <th>N_Foxa2_prom</th>\n",
              "    </tr>\n",
              "  </thead>\n",
              "  <tbody>\n",
              "  </tbody>\n",
              "</table>\n",
              "</div>"
            ],
            "text/plain": [
              "Empty DataFrame\n",
              "Columns: [tau_Ascl2_prom (seconds), tau_Ascl2_prom (days), N_Ascl2_prom, tau_Bbx_prom (seconds), tau_Bbx_prom (days), N_Bbx_prom, tau_Mafb_prom (seconds), tau_Mafb_prom (days), N_Mafb_prom, tau_Foxa2_prom (seconds), tau_Foxa2_prom (days), N_Foxa2_prom]\n",
              "Index: []"
            ]
          },
          "metadata": {
            "tags": []
          },
          "execution_count": 132
        }
      ]
    },
    {
      "cell_type": "code",
      "metadata": {
        "colab": {
          "base_uri": "https://localhost:8080/",
          "height": 49
        },
        "id": "poCkBMD8Lle6",
        "outputId": "93dbd928-9cbd-494d-cf56-3b4e3c2ffac7"
      },
      "source": [
        "parameters"
      ],
      "execution_count": 139,
      "outputs": [
        {
          "output_type": "execute_result",
          "data": {
            "text/html": [
              "<div>\n",
              "<style scoped>\n",
              "    .dataframe tbody tr th:only-of-type {\n",
              "        vertical-align: middle;\n",
              "    }\n",
              "\n",
              "    .dataframe tbody tr th {\n",
              "        vertical-align: top;\n",
              "    }\n",
              "\n",
              "    .dataframe thead th {\n",
              "        text-align: right;\n",
              "    }\n",
              "</style>\n",
              "<table border=\"1\" class=\"dataframe\">\n",
              "  <thead>\n",
              "    <tr style=\"text-align: right;\">\n",
              "      <th></th>\n",
              "      <th>initial_phen</th>\n",
              "      <th>initial_gen</th>\n",
              "      <th>initial_gen_index</th>\n",
              "      <th>max_measurements</th>\n",
              "      <th>measurement_rate</th>\n",
              "      <th>transition_rate</th>\n",
              "    </tr>\n",
              "  </thead>\n",
              "  <tbody>\n",
              "  </tbody>\n",
              "</table>\n",
              "</div>"
            ],
            "text/plain": [
              "Empty DataFrame\n",
              "Columns: [initial_phen, initial_gen, initial_gen_index, max_measurements, measurement_rate, transition_rate]\n",
              "Index: []"
            ]
          },
          "metadata": {
            "tags": []
          },
          "execution_count": 139
        }
      ]
    },
    {
      "cell_type": "markdown",
      "metadata": {
        "id": "HB3M82AKB8Y8"
      },
      "source": [
        "Write results"
      ]
    },
    {
      "cell_type": "code",
      "metadata": {
        "id": "_cquEity8wDZ"
      },
      "source": [
        "parameters.to_csv(\"/content/drive/My Drive/Thesis/Code/newData/paperBased/gspace_4phen/QW_parameters.csv\")\n",
        "simulations_results.to_csv(\"/content/drive/My Drive/Thesis/Code/newData/paperBased/gspace_4phen/QW_simulations_results.csv\")\n",
        "estimations_results.to_csv(\"/content/drive/My Drive/Thesis/Code/newData/paperBased/gspace_4phen/QW_estimation_results.csv\")"
      ],
      "execution_count": 134,
      "outputs": []
    },
    {
      "cell_type": "code",
      "metadata": {
        "id": "gyZHYl5xHLcm"
      },
      "source": [
        "np.random.seed(2021)"
      ],
      "execution_count": 135,
      "outputs": []
    },
    {
      "cell_type": "markdown",
      "metadata": {
        "id": "ncvnWkKgTYQa"
      },
      "source": [
        "### Choosing new parameters"
      ]
    },
    {
      "cell_type": "code",
      "metadata": {
        "id": "YvziKAT_iYfj"
      },
      "source": [
        "max_measurements = 5000 # maximum number of measurements in a simulation\n",
        "measurement_rate = 50 # This is equal to the average decoherence time of the system. \n",
        "# McFadden and Al-Khalili (1999) estimated that it is between 1-100 seconds or more\n",
        "gamma = 10**(-3) # transition rate between neighbor nodes\n",
        "initial_phen = 'Mafb'\n",
        "\n",
        "#initial sequence = \"AAAAAAAA\"\n",
        "#initial_genotype = sequenceIndex(initial_sequence)"
      ],
      "execution_count": 141,
      "outputs": []
    },
    {
      "cell_type": "code",
      "metadata": {
        "colab": {
          "base_uri": "https://localhost:8080/"
        },
        "id": "1mmPniLXjPF3",
        "outputId": "15b08fef-43dc-48c4-9e55-271c4f0566f5"
      },
      "source": [
        "np.random.seed(2021)\n",
        "new_parameters = True\n",
        "initial_genotype = randomInitialGenotype(initial_phen)\n",
        "initial_sequence = gspace_4phen.nodes[initial_genotype]['sequence']\n",
        "\n",
        "print(initial_genotype)\n",
        "print(gspace_4phen.nodes[initial_genotype]['phenotypeName'])"
      ],
      "execution_count": 137,
      "outputs": [
        {
          "output_type": "stream",
          "text": [
            "552\n",
            "['Mafb']\n"
          ],
          "name": "stdout"
        }
      ]
    },
    {
      "cell_type": "code",
      "metadata": {
        "id": "gAd9fbMmjgSO"
      },
      "source": [
        "parameters = parameters.append({'initial_phen': initial_phen, 'initial_gen': initial_sequence, 'initial_gen_index': initial_genotype, \n",
        "                                'max_measurements': max_measurements, 'measurement_rate': measurement_rate, 'transition_rate': gamma}, \n",
        "                               ignore_index=True)\n",
        "parameters.to_csv(\"/content/drive/My Drive/Thesis/Code/newData/paperBased/gspace_4phen/QW_parameters.csv\")"
      ],
      "execution_count": 142,
      "outputs": []
    },
    {
      "cell_type": "markdown",
      "metadata": {
        "id": "i71CcbrNTe3z"
      },
      "source": [
        "### Choosing old parameters"
      ]
    },
    {
      "cell_type": "code",
      "metadata": {
        "colab": {
          "base_uri": "https://localhost:8080/",
          "height": 80
        },
        "id": "Qq3uBOBCq6p5",
        "outputId": "6567ba34-3b90-4c7c-f6d0-33d89c27bd58"
      },
      "source": [
        "parameters"
      ],
      "execution_count": 145,
      "outputs": [
        {
          "output_type": "execute_result",
          "data": {
            "text/html": [
              "<div>\n",
              "<style scoped>\n",
              "    .dataframe tbody tr th:only-of-type {\n",
              "        vertical-align: middle;\n",
              "    }\n",
              "\n",
              "    .dataframe tbody tr th {\n",
              "        vertical-align: top;\n",
              "    }\n",
              "\n",
              "    .dataframe thead th {\n",
              "        text-align: right;\n",
              "    }\n",
              "</style>\n",
              "<table border=\"1\" class=\"dataframe\">\n",
              "  <thead>\n",
              "    <tr style=\"text-align: right;\">\n",
              "      <th></th>\n",
              "      <th>initial_phen</th>\n",
              "      <th>initial_gen</th>\n",
              "      <th>initial_gen_index</th>\n",
              "      <th>max_measurements</th>\n",
              "      <th>measurement_rate</th>\n",
              "      <th>transition_rate</th>\n",
              "    </tr>\n",
              "  </thead>\n",
              "  <tbody>\n",
              "    <tr>\n",
              "      <th>0</th>\n",
              "      <td>Mafb</td>\n",
              "      <td>ATGAAAAA</td>\n",
              "      <td>552</td>\n",
              "      <td>5000</td>\n",
              "      <td>50</td>\n",
              "      <td>0.001</td>\n",
              "    </tr>\n",
              "  </tbody>\n",
              "</table>\n",
              "</div>"
            ],
            "text/plain": [
              "  initial_phen initial_gen  ... measurement_rate transition_rate\n",
              "0         Mafb    ATGAAAAA  ...               50           0.001\n",
              "\n",
              "[1 rows x 6 columns]"
            ]
          },
          "metadata": {
            "tags": []
          },
          "execution_count": 145
        }
      ]
    },
    {
      "cell_type": "code",
      "metadata": {
        "id": "7HAZRnkATjjy"
      },
      "source": [
        "parameters_index = 0"
      ],
      "execution_count": 147,
      "outputs": []
    },
    {
      "cell_type": "code",
      "metadata": {
        "colab": {
          "base_uri": "https://localhost:8080/"
        },
        "id": "iMLSRXSOVPQE",
        "outputId": "6c4810b2-a126-4afc-f857-e0ea26cbcda3"
      },
      "source": [
        "new_parameters = False\n",
        "max_measurements = parameters.loc[parameters_index]['max_measurements'] # maximum number of measurements in a simulation\n",
        "measurement_rate = parameters.loc[parameters_index]['measurement_rate'] # This is equal to the average decoherence time of the system. \n",
        "# McFadden and Al-Khalili (1999) estimated that it is between 1-100 seconds or more\n",
        "gamma = parameters.loc[parameters_index]['transition_rate'] # transition rate between neighbor nodes\n",
        "initial_phen = parameters.loc[parameters_index]['initial_phen']\n",
        "initial_genotype = parameters.loc[parameters_index]['initial_gen_index']\n",
        "print(initial_genotype)\n",
        "print(gspace_4phen.nodes[initial_genotype]['phenotypeName'])"
      ],
      "execution_count": 148,
      "outputs": [
        {
          "output_type": "stream",
          "text": [
            "552\n",
            "['Mafb']\n"
          ],
          "name": "stdout"
        }
      ]
    },
    {
      "cell_type": "markdown",
      "metadata": {
        "id": "pNW59h3kTpgQ"
      },
      "source": [
        "### Loading fix parameters"
      ]
    },
    {
      "cell_type": "code",
      "metadata": {
        "id": "GNzN2ePwTsIu"
      },
      "source": [
        "H = giveMeHamiltonian(gspace_4phen, gamma)\n",
        "M = gspace_4phen.number_of_nodes() # number of nodes and dimension of Hilbert space"
      ],
      "execution_count": 149,
      "outputs": []
    },
    {
      "cell_type": "markdown",
      "metadata": {
        "id": "-nl53sxclEpz"
      },
      "source": [
        "## Simulations"
      ]
    },
    {
      "cell_type": "code",
      "metadata": {
        "id": "kKoc1HOkLWRb"
      },
      "source": [
        "simulations = 1 # number of simulations"
      ],
      "execution_count": 150,
      "outputs": []
    },
    {
      "cell_type": "code",
      "metadata": {
        "colab": {
          "base_uri": "https://localhost:8080/"
        },
        "id": "qSfUUhhxkFNK",
        "outputId": "3e372b5e-1d36-430f-f145-ce8690616c15"
      },
      "source": [
        "if new_parameters:\n",
        "  parameters_index = len(parameters)-1\n",
        "\n",
        "tau = {} # estimation of tau (hitting time) for every phenotype \n",
        "# Time it takes quantum walk to find given phenotype\n",
        "\n",
        "N = {} # estimation of N \n",
        "# number of jumps the random walk takes to find a genotype with a new phenotype\n",
        "\n",
        "phenotype_frequency = {} # for saving phenotype frequency in evolution path\n",
        "evolution_path_columns = [\"holding time\", \"accumulated time\", \"genotype index\", \"genotype sequence\"]\n",
        "\n",
        "for phen in genotype_networks_4phen.keys():\n",
        "  evolution_path_columns.append(phen + \" freq.\")\n",
        "\n",
        "for i in range(simulations):\n",
        "  print('Start of simulation', i+1, '/', simulations)\n",
        "\n",
        "  no_measurement = 0\n",
        "  time = 0\n",
        "\n",
        "  #initialization\n",
        "  for phen in genotype_networks_4phen.keys():\n",
        "    tau[phen] = -1\n",
        "    N[phen] = -1\n",
        "\n",
        "  evolution_path = pd.DataFrame(columns=evolution_path_columns) # indices of genotypes of the evolution \n",
        "  actual_state = initial_genotype \n",
        "\n",
        "  evolution_path_aux = {}\n",
        "  # phenotypes of actual state\n",
        "  phenotypes_actual_state = gspace_4phen.nodes[actual_state]['phenotypeName']\n",
        "  # the other phenotypes in genotype space\n",
        "  phenotypes_actual_state_complement = set(genotype_networks_4phen.keys()).difference(set(phenotypes_actual_state))\n",
        "\n",
        "  for phen in phenotypes_actual_state:\n",
        "    evolution_path_aux[phen+\" freq.\"] = 1.0\n",
        "\n",
        "  for phen in phenotypes_actual_state_complement:\n",
        "    evolution_path_aux[phen+\" freq.\"] = 0.0\n",
        "\n",
        "  evolution_path_aux['holding time'] = 0.0\n",
        "  evolution_path_aux['accumulated time'] = 0.0\n",
        "  evolution_path_aux['genotype index'] = int(initial_genotype)\n",
        "  evolution_path_aux['genotype sequence'] = gspace_4phen.nodes[initial_genotype]['sequence']\n",
        "\n",
        "  evolution_path = evolution_path.append(evolution_path_aux, ignore_index=True)\n",
        "\n",
        "  while no_measurement < max_measurements:\n",
        "    for phen in phenotypes_actual_state:\n",
        "      if tau[phen] < 0: # update hitting times of novel phenotypes\n",
        "        tau[phen] = time\n",
        "        N[phen] = no_measurement\n",
        "      \n",
        "    T = expon.rvs(scale=measurement_rate, size=1)[0] # sample of exponential distribution with scale parameter measurement_rate\n",
        "\n",
        "    evolution_path_aux['holding time'] = T\n",
        "    evolution_path_aux['accumulated time'] = T+time\n",
        "    \n",
        "    # evolving quantum walk\n",
        "    actual_state_vec = canonical_vector(actual_state, M) # vector representing genotype actual_state\n",
        "    actual_state_vec = expm_multiply(-1j*T*H, actual_state_vec) # evolve quantum walk until time T with actual_state as initial state\n",
        "    actual_state = measurement(actual_state_vec, gspace_4phen.nodes)\n",
        "\n",
        "    evolution_path_aux['genotype index'] = actual_state\n",
        "    evolution_path_aux['genotype sequence'] = gspace_4phen.nodes[actual_state]['sequence']\n",
        "\n",
        "    # phenotypes of actual state\n",
        "    phenotypes_actual_state = gspace_4phen.nodes[actual_state]['phenotypeName']\n",
        "    # the other phenotypes in genotype space\n",
        "    phenotypes_actual_state_complement = set(genotype_networks_4phen.keys()).difference(set(phenotypes_actual_state))\n",
        "\n",
        "    for phen in phenotypes_actual_state:\n",
        "      evolution_path_aux[phen+\" freq.\"] = (evolution_path[phen+\" freq.\"][no_measurement]*no_measurement+1)/(no_measurement+1)\n",
        "\n",
        "    for phen in phenotypes_actual_state_complement:\n",
        "      evolution_path_aux[phen+\" freq.\"] = (evolution_path[phen+\" freq.\"][no_measurement]*no_measurement)/(no_measurement+1)\n",
        "\n",
        "    evolution_path = evolution_path.append(evolution_path_aux, ignore_index=True)\n",
        "\n",
        "    time += T\n",
        "    no_measurement += 1\n",
        "    \n",
        "    if no_measurement % 1000 == 0:\n",
        "      print(\"Measurement number\", no_measurement)\n",
        "      print(\"Accumulated time\", time)\n",
        "  \n",
        "  print(\"End of simulation\", i+1)\n",
        "    \n",
        "  simulations_results_aux = {'parameters_index': int(parameters_index)}\n",
        "\n",
        "  for phen in genotype_networks_4phen.keys():\n",
        "    simulations_results_aux['tau_'+phen] = tau[phen]\n",
        "    simulations_results_aux['N_'+phen] = N[phen]\n",
        "\n",
        "  simulations_results = simulations_results.append(simulations_results_aux, ignore_index=True)\n",
        "  evolution_path.to_csv(\"/content/drive/My Drive/Thesis/Code/newData/paperBased/gspace_4phen/evolution_paths_QW/\"+\n",
        "                                   str(len(simulations_results)-1)+\".csv\")\n",
        "  \n",
        "# writing results of simulations  \n",
        "simulations_results.to_csv(\"/content/drive/My Drive/Thesis/Code/newData/paperBased/gspace_4phen/QW_simulations_results.csv\")"
      ],
      "execution_count": 171,
      "outputs": [
        {
          "output_type": "stream",
          "text": [
            "Start of simulation 1 / 1\n",
            "Measurement number 1000\n",
            "Accumulated time 49345.24592975151\n",
            "Measurement number 2000\n",
            "Accumulated time 100872.23215271145\n",
            "Measurement number 3000\n",
            "Accumulated time 154364.25430145272\n",
            "Measurement number 4000\n",
            "Accumulated time 204955.3055097207\n",
            "Measurement number 5000\n",
            "Accumulated time 253457.68890297398\n",
            "End of simulation 1\n"
          ],
          "name": "stdout"
        }
      ]
    },
    {
      "cell_type": "code",
      "metadata": {
        "colab": {
          "base_uri": "https://localhost:8080/",
          "height": 80
        },
        "id": "j8fmYsLgJFkr",
        "outputId": "cee85151-8b11-480a-f5c1-8e0b481dc38f"
      },
      "source": [
        "parameters"
      ],
      "execution_count": 172,
      "outputs": [
        {
          "output_type": "execute_result",
          "data": {
            "text/html": [
              "<div>\n",
              "<style scoped>\n",
              "    .dataframe tbody tr th:only-of-type {\n",
              "        vertical-align: middle;\n",
              "    }\n",
              "\n",
              "    .dataframe tbody tr th {\n",
              "        vertical-align: top;\n",
              "    }\n",
              "\n",
              "    .dataframe thead th {\n",
              "        text-align: right;\n",
              "    }\n",
              "</style>\n",
              "<table border=\"1\" class=\"dataframe\">\n",
              "  <thead>\n",
              "    <tr style=\"text-align: right;\">\n",
              "      <th></th>\n",
              "      <th>initial_phen</th>\n",
              "      <th>initial_gen</th>\n",
              "      <th>initial_gen_index</th>\n",
              "      <th>max_measurements</th>\n",
              "      <th>measurement_rate</th>\n",
              "      <th>transition_rate</th>\n",
              "    </tr>\n",
              "  </thead>\n",
              "  <tbody>\n",
              "    <tr>\n",
              "      <th>0</th>\n",
              "      <td>Mafb</td>\n",
              "      <td>ATGAAAAA</td>\n",
              "      <td>552</td>\n",
              "      <td>5000</td>\n",
              "      <td>50</td>\n",
              "      <td>0.001</td>\n",
              "    </tr>\n",
              "  </tbody>\n",
              "</table>\n",
              "</div>"
            ],
            "text/plain": [
              "  initial_phen initial_gen  ... measurement_rate transition_rate\n",
              "0         Mafb    ATGAAAAA  ...               50           0.001\n",
              "\n",
              "[1 rows x 6 columns]"
            ]
          },
          "metadata": {
            "tags": []
          },
          "execution_count": 172
        }
      ]
    },
    {
      "cell_type": "code",
      "metadata": {
        "colab": {
          "base_uri": "https://localhost:8080/",
          "height": 80
        },
        "id": "JjnTSFXIHHMU",
        "outputId": "47422390-c10c-460d-8f8e-e6f8b50677e6"
      },
      "source": [
        "simulations_results"
      ],
      "execution_count": 181,
      "outputs": [
        {
          "output_type": "execute_result",
          "data": {
            "text/html": [
              "<div>\n",
              "<style scoped>\n",
              "    .dataframe tbody tr th:only-of-type {\n",
              "        vertical-align: middle;\n",
              "    }\n",
              "\n",
              "    .dataframe tbody tr th {\n",
              "        vertical-align: top;\n",
              "    }\n",
              "\n",
              "    .dataframe thead th {\n",
              "        text-align: right;\n",
              "    }\n",
              "</style>\n",
              "<table border=\"1\" class=\"dataframe\">\n",
              "  <thead>\n",
              "    <tr style=\"text-align: right;\">\n",
              "      <th></th>\n",
              "      <th>parameters_index</th>\n",
              "      <th>tau_Ascl2</th>\n",
              "      <th>tau_Bbx</th>\n",
              "      <th>tau_Foxa2</th>\n",
              "      <th>tau_Mafb</th>\n",
              "      <th>N_Ascl2</th>\n",
              "      <th>N_Bbx</th>\n",
              "      <th>N_Foxa2</th>\n",
              "      <th>N_Mafb</th>\n",
              "    </tr>\n",
              "  </thead>\n",
              "  <tbody>\n",
              "    <tr>\n",
              "      <th>0</th>\n",
              "      <td>0.0</td>\n",
              "      <td>-1.0</td>\n",
              "      <td>-1.0</td>\n",
              "      <td>48201.61869</td>\n",
              "      <td>0.0</td>\n",
              "      <td>-1.0</td>\n",
              "      <td>-1.0</td>\n",
              "      <td>983.0</td>\n",
              "      <td>0.0</td>\n",
              "    </tr>\n",
              "  </tbody>\n",
              "</table>\n",
              "</div>"
            ],
            "text/plain": [
              "   parameters_index  tau_Ascl2  tau_Bbx  ...  N_Bbx  N_Foxa2  N_Mafb\n",
              "0               0.0       -1.0     -1.0  ...   -1.0    983.0     0.0\n",
              "\n",
              "[1 rows x 9 columns]"
            ]
          },
          "metadata": {
            "tags": []
          },
          "execution_count": 181
        }
      ]
    },
    {
      "cell_type": "markdown",
      "metadata": {
        "id": "C-t2nt3pCrWQ"
      },
      "source": [
        "## Estimations"
      ]
    },
    {
      "cell_type": "code",
      "metadata": {
        "id": "LTCQ4YTvCvBv"
      },
      "source": [
        "def updateEstimation(parameters_index):\n",
        "  estimations_results['tau_prom (seconds)'][index] =  simulations_results[simulations_results['parameters_index'] == index]['tau'].mean()\n",
        "  estimations_results['tau_prom (days)'][index] = estimations_results['tau_prom (seconds)'][index]/(60*24)\n",
        "  # 60*24 is the number of seconds in a day\n",
        "  estimations_results['N_prom'][index] = simulations_results[simulations_results['parameters_index'] == index]['N'].mean()\n",
        "\n",
        "def updateAllEstimations():\n",
        "  estimations_results = pd.DataFrame(columns=['tau_prom (seconds)', 'tau_prom (days)', 'N_prom'])\n",
        "\n",
        "  for index, row in parameters.iterrows():\n",
        "    estimation_result_aux = {}\n",
        "    estimation_result_aux['tau_prom (seconds)'] =  simulations_results[simulations_results['parameters_index'] == index]['tau'].mean()\n",
        "    estimation_result_aux['tau_prom (days)'] = estimation_result_aux['tau_prom (seconds)']/(60*24)\n",
        "    # 60*24 is the number of seconds in a day\n",
        "    estimation_result_aux['N_prom'] = simulations_results[simulations_results['parameters_index'] == index]['N'].mean()\n",
        "\n",
        "\n",
        "    estimations_results = estimations_results.append(estimation_result_aux, ignore_index=True)\n",
        "\n",
        "  return estimations_results\n"
      ],
      "execution_count": null,
      "outputs": []
    },
    {
      "cell_type": "code",
      "metadata": {
        "id": "fXNS5TNzTMqU"
      },
      "source": [
        "estimations_results = updateAllEstimations()"
      ],
      "execution_count": null,
      "outputs": []
    },
    {
      "cell_type": "code",
      "metadata": {
        "colab": {
          "base_uri": "https://localhost:8080/",
          "height": 457
        },
        "id": "W9Z4FPBuP0hQ",
        "outputId": "f78dc438-5df6-4583-e1cc-e22164542702"
      },
      "source": [
        "estimations_results"
      ],
      "execution_count": null,
      "outputs": [
        {
          "output_type": "execute_result",
          "data": {
            "text/html": [
              "<div>\n",
              "<style scoped>\n",
              "    .dataframe tbody tr th:only-of-type {\n",
              "        vertical-align: middle;\n",
              "    }\n",
              "\n",
              "    .dataframe tbody tr th {\n",
              "        vertical-align: top;\n",
              "    }\n",
              "\n",
              "    .dataframe thead th {\n",
              "        text-align: right;\n",
              "    }\n",
              "</style>\n",
              "<table border=\"1\" class=\"dataframe\">\n",
              "  <thead>\n",
              "    <tr style=\"text-align: right;\">\n",
              "      <th></th>\n",
              "      <th>tau_prom (seconds)</th>\n",
              "      <th>tau_prom (days)</th>\n",
              "      <th>N_prom</th>\n",
              "    </tr>\n",
              "  </thead>\n",
              "  <tbody>\n",
              "    <tr>\n",
              "      <th>0</th>\n",
              "      <td>4.635340e+05</td>\n",
              "      <td>321.898631</td>\n",
              "      <td>5854.000000</td>\n",
              "    </tr>\n",
              "    <tr>\n",
              "      <th>1</th>\n",
              "      <td>1.401699e+06</td>\n",
              "      <td>973.401744</td>\n",
              "      <td>17517.752381</td>\n",
              "    </tr>\n",
              "    <tr>\n",
              "      <th>2</th>\n",
              "      <td>9.499409e+05</td>\n",
              "      <td>659.681194</td>\n",
              "      <td>11872.990000</td>\n",
              "    </tr>\n",
              "    <tr>\n",
              "      <th>3</th>\n",
              "      <td>3.784746e+06</td>\n",
              "      <td>2628.295600</td>\n",
              "      <td>25212.690000</td>\n",
              "    </tr>\n",
              "    <tr>\n",
              "      <th>4</th>\n",
              "      <td>4.990389e+05</td>\n",
              "      <td>346.554792</td>\n",
              "      <td>49896.210000</td>\n",
              "    </tr>\n",
              "    <tr>\n",
              "      <th>5</th>\n",
              "      <td>1.000163e+05</td>\n",
              "      <td>69.455766</td>\n",
              "      <td>100000.000000</td>\n",
              "    </tr>\n",
              "    <tr>\n",
              "      <th>6</th>\n",
              "      <td>1.026799e+04</td>\n",
              "      <td>7.130547</td>\n",
              "      <td>1000.000000</td>\n",
              "    </tr>\n",
              "    <tr>\n",
              "      <th>7</th>\n",
              "      <td>8.269004e+04</td>\n",
              "      <td>57.423636</td>\n",
              "      <td>1648.400000</td>\n",
              "    </tr>\n",
              "    <tr>\n",
              "      <th>8</th>\n",
              "      <td>2.481227e+05</td>\n",
              "      <td>172.307409</td>\n",
              "      <td>5000.000000</td>\n",
              "    </tr>\n",
              "    <tr>\n",
              "      <th>9</th>\n",
              "      <td>2.115363e+05</td>\n",
              "      <td>146.900222</td>\n",
              "      <td>4214.400000</td>\n",
              "    </tr>\n",
              "    <tr>\n",
              "      <th>10</th>\n",
              "      <td>6.389497e+03</td>\n",
              "      <td>4.437150</td>\n",
              "      <td>131.200000</td>\n",
              "    </tr>\n",
              "    <tr>\n",
              "      <th>11</th>\n",
              "      <td>5.595280e+03</td>\n",
              "      <td>3.885611</td>\n",
              "      <td>115.600000</td>\n",
              "    </tr>\n",
              "    <tr>\n",
              "      <th>12</th>\n",
              "      <td>7.757535e+04</td>\n",
              "      <td>53.871769</td>\n",
              "      <td>1534.400000</td>\n",
              "    </tr>\n",
              "  </tbody>\n",
              "</table>\n",
              "</div>"
            ],
            "text/plain": [
              "    tau_prom (seconds)  tau_prom (days)         N_prom\n",
              "0         4.635340e+05       321.898631    5854.000000\n",
              "1         1.401699e+06       973.401744   17517.752381\n",
              "2         9.499409e+05       659.681194   11872.990000\n",
              "3         3.784746e+06      2628.295600   25212.690000\n",
              "4         4.990389e+05       346.554792   49896.210000\n",
              "5         1.000163e+05        69.455766  100000.000000\n",
              "6         1.026799e+04         7.130547    1000.000000\n",
              "7         8.269004e+04        57.423636    1648.400000\n",
              "8         2.481227e+05       172.307409    5000.000000\n",
              "9         2.115363e+05       146.900222    4214.400000\n",
              "10        6.389497e+03         4.437150     131.200000\n",
              "11        5.595280e+03         3.885611     115.600000\n",
              "12        7.757535e+04        53.871769    1534.400000"
            ]
          },
          "metadata": {
            "tags": []
          },
          "execution_count": 230
        }
      ]
    },
    {
      "cell_type": "code",
      "metadata": {
        "id": "gHq36BCTCw36"
      },
      "source": [
        "estimations_results.to_csv(\"/content/drive/My Drive/Thesis/Code/newData/paperBased/gspace_4phen/CTQW_estimation_results.csv\")"
      ],
      "execution_count": null,
      "outputs": []
    },
    {
      "cell_type": "code",
      "metadata": {
        "colab": {
          "base_uri": "https://localhost:8080/",
          "height": 457
        },
        "id": "USdrivmwYRR9",
        "outputId": "fab43c6a-1c71-48d4-dc85-7688b55002f8"
      },
      "source": [
        "parameters"
      ],
      "execution_count": null,
      "outputs": [
        {
          "output_type": "execute_result",
          "data": {
            "text/html": [
              "<div>\n",
              "<style scoped>\n",
              "    .dataframe tbody tr th:only-of-type {\n",
              "        vertical-align: middle;\n",
              "    }\n",
              "\n",
              "    .dataframe tbody tr th {\n",
              "        vertical-align: top;\n",
              "    }\n",
              "\n",
              "    .dataframe thead th {\n",
              "        text-align: right;\n",
              "    }\n",
              "</style>\n",
              "<table border=\"1\" class=\"dataframe\">\n",
              "  <thead>\n",
              "    <tr style=\"text-align: right;\">\n",
              "      <th></th>\n",
              "      <th>initial_phen</th>\n",
              "      <th>initial_gen</th>\n",
              "      <th>initial_gen_index</th>\n",
              "      <th>final_phen</th>\n",
              "      <th>measurements</th>\n",
              "      <th>measurement_rate</th>\n",
              "      <th>transition_rate</th>\n",
              "    </tr>\n",
              "  </thead>\n",
              "  <tbody>\n",
              "    <tr>\n",
              "      <th>0</th>\n",
              "      <td>Mafb</td>\n",
              "      <td>ATGAAAAA</td>\n",
              "      <td>552</td>\n",
              "      <td>Foxa2</td>\n",
              "      <td>20000</td>\n",
              "      <td>80</td>\n",
              "      <td>0.0001</td>\n",
              "    </tr>\n",
              "    <tr>\n",
              "      <th>1</th>\n",
              "      <td>Foxa2</td>\n",
              "      <td>GGCAAATA</td>\n",
              "      <td>263</td>\n",
              "      <td>Bbx</td>\n",
              "      <td>20000</td>\n",
              "      <td>80</td>\n",
              "      <td>0.0001</td>\n",
              "    </tr>\n",
              "    <tr>\n",
              "      <th>2</th>\n",
              "      <td>Bbx</td>\n",
              "      <td>AAATTAAT</td>\n",
              "      <td>133</td>\n",
              "      <td>Mafb</td>\n",
              "      <td>20000</td>\n",
              "      <td>80</td>\n",
              "      <td>0.0001</td>\n",
              "    </tr>\n",
              "    <tr>\n",
              "      <th>3</th>\n",
              "      <td>Mafb</td>\n",
              "      <td>ATGAAAAA</td>\n",
              "      <td>552</td>\n",
              "      <td>Bbx</td>\n",
              "      <td>50000</td>\n",
              "      <td>150</td>\n",
              "      <td>0.0001</td>\n",
              "    </tr>\n",
              "    <tr>\n",
              "      <th>4</th>\n",
              "      <td>Ascl2</td>\n",
              "      <td>CAGCTGCG</td>\n",
              "      <td>57</td>\n",
              "      <td>Mafb</td>\n",
              "      <td>50000</td>\n",
              "      <td>10</td>\n",
              "      <td>0.0001</td>\n",
              "    </tr>\n",
              "    <tr>\n",
              "      <th>5</th>\n",
              "      <td>Bbx</td>\n",
              "      <td>ATAAATGA</td>\n",
              "      <td>101</td>\n",
              "      <td>Mafb</td>\n",
              "      <td>100000</td>\n",
              "      <td>1</td>\n",
              "      <td>0.0001</td>\n",
              "    </tr>\n",
              "    <tr>\n",
              "      <th>6</th>\n",
              "      <td>Foxa2</td>\n",
              "      <td>AACAAAAC</td>\n",
              "      <td>399</td>\n",
              "      <td>Bbx</td>\n",
              "      <td>1000</td>\n",
              "      <td>10</td>\n",
              "      <td>0.0001</td>\n",
              "    </tr>\n",
              "    <tr>\n",
              "      <th>7</th>\n",
              "      <td>Foxa2</td>\n",
              "      <td>AACAAAAC</td>\n",
              "      <td>399</td>\n",
              "      <td>Bbx</td>\n",
              "      <td>5000</td>\n",
              "      <td>50</td>\n",
              "      <td>0.0010</td>\n",
              "    </tr>\n",
              "    <tr>\n",
              "      <th>8</th>\n",
              "      <td>Mafb</td>\n",
              "      <td>AAAATAAT</td>\n",
              "      <td>499</td>\n",
              "      <td>Ascl2</td>\n",
              "      <td>5000</td>\n",
              "      <td>50</td>\n",
              "      <td>0.0010</td>\n",
              "    </tr>\n",
              "    <tr>\n",
              "      <th>9</th>\n",
              "      <td>Mafb</td>\n",
              "      <td>AAAAAATA</td>\n",
              "      <td>538</td>\n",
              "      <td>Ascl2</td>\n",
              "      <td>5000</td>\n",
              "      <td>50</td>\n",
              "      <td>0.0010</td>\n",
              "    </tr>\n",
              "    <tr>\n",
              "      <th>10</th>\n",
              "      <td>Mafb</td>\n",
              "      <td>AAAAAATA</td>\n",
              "      <td>538</td>\n",
              "      <td>Foxa2</td>\n",
              "      <td>5000</td>\n",
              "      <td>50</td>\n",
              "      <td>0.0010</td>\n",
              "    </tr>\n",
              "    <tr>\n",
              "      <th>11</th>\n",
              "      <td>Mafb</td>\n",
              "      <td>ACAAAAAA</td>\n",
              "      <td>546</td>\n",
              "      <td>Foxa2</td>\n",
              "      <td>5000</td>\n",
              "      <td>50</td>\n",
              "      <td>0.0010</td>\n",
              "    </tr>\n",
              "    <tr>\n",
              "      <th>12</th>\n",
              "      <td>Mafb</td>\n",
              "      <td>GAAAATGC</td>\n",
              "      <td>527</td>\n",
              "      <td>Foxa2</td>\n",
              "      <td>5000</td>\n",
              "      <td>50</td>\n",
              "      <td>0.0010</td>\n",
              "    </tr>\n",
              "  </tbody>\n",
              "</table>\n",
              "</div>"
            ],
            "text/plain": [
              "   initial_phen initial_gen  ...  measurement_rate transition_rate\n",
              "0          Mafb    ATGAAAAA  ...                80          0.0001\n",
              "1         Foxa2    GGCAAATA  ...                80          0.0001\n",
              "2           Bbx    AAATTAAT  ...                80          0.0001\n",
              "3          Mafb    ATGAAAAA  ...               150          0.0001\n",
              "4         Ascl2    CAGCTGCG  ...                10          0.0001\n",
              "5           Bbx    ATAAATGA  ...                 1          0.0001\n",
              "6         Foxa2    AACAAAAC  ...                10          0.0001\n",
              "7         Foxa2    AACAAAAC  ...                50          0.0010\n",
              "8          Mafb    AAAATAAT  ...                50          0.0010\n",
              "9          Mafb    AAAAAATA  ...                50          0.0010\n",
              "10         Mafb    AAAAAATA  ...                50          0.0010\n",
              "11         Mafb    ACAAAAAA  ...                50          0.0010\n",
              "12         Mafb    GAAAATGC  ...                50          0.0010\n",
              "\n",
              "[13 rows x 7 columns]"
            ]
          },
          "metadata": {
            "tags": []
          },
          "execution_count": 232
        }
      ]
    },
    {
      "cell_type": "markdown",
      "metadata": {
        "id": "_QBEv_O6MUnA"
      },
      "source": [
        "## Data visualization (deprecated)"
      ]
    },
    {
      "cell_type": "code",
      "metadata": {
        "colab": {
          "base_uri": "https://localhost:8080/",
          "height": 80
        },
        "id": "2yfFL8rQVVEk",
        "outputId": "a34eab0b-10da-490b-fa62-ce102d5846fa"
      },
      "source": [
        "parameters"
      ],
      "execution_count": 175,
      "outputs": [
        {
          "output_type": "execute_result",
          "data": {
            "text/html": [
              "<div>\n",
              "<style scoped>\n",
              "    .dataframe tbody tr th:only-of-type {\n",
              "        vertical-align: middle;\n",
              "    }\n",
              "\n",
              "    .dataframe tbody tr th {\n",
              "        vertical-align: top;\n",
              "    }\n",
              "\n",
              "    .dataframe thead th {\n",
              "        text-align: right;\n",
              "    }\n",
              "</style>\n",
              "<table border=\"1\" class=\"dataframe\">\n",
              "  <thead>\n",
              "    <tr style=\"text-align: right;\">\n",
              "      <th></th>\n",
              "      <th>initial_phen</th>\n",
              "      <th>initial_gen</th>\n",
              "      <th>initial_gen_index</th>\n",
              "      <th>max_measurements</th>\n",
              "      <th>measurement_rate</th>\n",
              "      <th>transition_rate</th>\n",
              "    </tr>\n",
              "  </thead>\n",
              "  <tbody>\n",
              "    <tr>\n",
              "      <th>0</th>\n",
              "      <td>Mafb</td>\n",
              "      <td>ATGAAAAA</td>\n",
              "      <td>552</td>\n",
              "      <td>5000</td>\n",
              "      <td>50</td>\n",
              "      <td>0.001</td>\n",
              "    </tr>\n",
              "  </tbody>\n",
              "</table>\n",
              "</div>"
            ],
            "text/plain": [
              "  initial_phen initial_gen  ... measurement_rate transition_rate\n",
              "0         Mafb    ATGAAAAA  ...               50           0.001\n",
              "\n",
              "[1 rows x 6 columns]"
            ]
          },
          "metadata": {
            "tags": []
          },
          "execution_count": 175
        }
      ]
    },
    {
      "cell_type": "code",
      "metadata": {
        "id": "g-veDuk2bQI6",
        "colab": {
          "base_uri": "https://localhost:8080/",
          "height": 283
        },
        "outputId": "0024004e-1a8c-47ee-8480-971d2f39196b"
      },
      "source": [
        "rslt_df = simulations_results[simulations_results['parameters_index'] == 1]\n",
        "rslt_df['N'].plot.hist(grid=True, bins=20, rwidth=0.9,\n",
        "                   color='#607c8e')"
      ],
      "execution_count": null,
      "outputs": [
        {
          "output_type": "execute_result",
          "data": {
            "text/plain": [
              "<matplotlib.axes._subplots.AxesSubplot at 0x7f821699e050>"
            ]
          },
          "metadata": {
            "tags": []
          },
          "execution_count": 235
        },
        {
          "output_type": "display_data",
          "data": {
            "image/png": "[encoded data removed]",
            "text/plain": [
              "<Figure size 432x288 with 1 Axes>"
            ]
          },
          "metadata": {
            "tags": [],
            "needs_background": "light"
          }
        }
      ]
    },
    {
      "cell_type": "code",
      "metadata": {
        "id": "jOK7Z5Uwb0Xx",
        "colab": {
          "base_uri": "https://localhost:8080/",
          "height": 283
        },
        "outputId": "1084b806-c34f-44ad-de78-a98129767b92"
      },
      "source": [
        "rslt_df['tau'].plot.hist(grid=True, bins=20, rwidth=0.9,\n",
        "                   color='#607c8e')"
      ],
      "execution_count": null,
      "outputs": [
        {
          "output_type": "execute_result",
          "data": {
            "text/plain": [
              "<matplotlib.axes._subplots.AxesSubplot at 0x7f82168469d0>"
            ]
          },
          "metadata": {
            "tags": []
          },
          "execution_count": 236
        },
        {
          "output_type": "display_data",
          "data": {
            "image/png": "[encoded data removed]",
            "text/plain": [
              "<Figure size 432x288 with 1 Axes>"
            ]
          },
          "metadata": {
            "tags": [],
            "needs_background": "light"
          }
        }
      ]
    },
    {
      "cell_type": "code",
      "metadata": {
        "colab": {
          "base_uri": "https://localhost:8080/",
          "height": 676
        },
        "id": "hyRRxZzEi50t",
        "outputId": "25186deb-f813-4af1-f089-ce14f7cd2230"
      },
      "source": [
        "simulations_results.tail(20)"
      ],
      "execution_count": null,
      "outputs": [
        {
          "output_type": "execute_result",
          "data": {
            "text/html": [
              "<div>\n",
              "<style scoped>\n",
              "    .dataframe tbody tr th:only-of-type {\n",
              "        vertical-align: middle;\n",
              "    }\n",
              "\n",
              "    .dataframe tbody tr th {\n",
              "        vertical-align: top;\n",
              "    }\n",
              "\n",
              "    .dataframe thead th {\n",
              "        text-align: right;\n",
              "    }\n",
              "</style>\n",
              "<table border=\"1\" class=\"dataframe\">\n",
              "  <thead>\n",
              "    <tr style=\"text-align: right;\">\n",
              "      <th></th>\n",
              "      <th>parameters_index</th>\n",
              "      <th>tau</th>\n",
              "      <th>N</th>\n",
              "      <th>Ascl2_freq</th>\n",
              "      <th>Bbx_freq</th>\n",
              "      <th>Foxa2_freq</th>\n",
              "      <th>Mafb_freq</th>\n",
              "      <th>measurements_exceeded</th>\n",
              "    </tr>\n",
              "  </thead>\n",
              "  <tbody>\n",
              "    <tr>\n",
              "      <th>518</th>\n",
              "      <td>10.0</td>\n",
              "      <td>3.487331e+02</td>\n",
              "      <td>3.0</td>\n",
              "      <td>0</td>\n",
              "      <td>0</td>\n",
              "      <td>0.333333</td>\n",
              "      <td>0.666667</td>\n",
              "      <td>False</td>\n",
              "    </tr>\n",
              "    <tr>\n",
              "      <th>519</th>\n",
              "      <td>10.0</td>\n",
              "      <td>3.695114e+03</td>\n",
              "      <td>73.0</td>\n",
              "      <td>0</td>\n",
              "      <td>0</td>\n",
              "      <td>0.0136986</td>\n",
              "      <td>1</td>\n",
              "      <td>False</td>\n",
              "    </tr>\n",
              "    <tr>\n",
              "      <th>520</th>\n",
              "      <td>10.0</td>\n",
              "      <td>4.286411e+02</td>\n",
              "      <td>7.0</td>\n",
              "      <td>0</td>\n",
              "      <td>0</td>\n",
              "      <td>0.142857</td>\n",
              "      <td>1</td>\n",
              "      <td>False</td>\n",
              "    </tr>\n",
              "    <tr>\n",
              "      <th>521</th>\n",
              "      <td>10.0</td>\n",
              "      <td>2.088521e+02</td>\n",
              "      <td>2.0</td>\n",
              "      <td>0</td>\n",
              "      <td>0</td>\n",
              "      <td>0.5</td>\n",
              "      <td>1</td>\n",
              "      <td>False</td>\n",
              "    </tr>\n",
              "    <tr>\n",
              "      <th>522</th>\n",
              "      <td>10.0</td>\n",
              "      <td>2.726614e+04</td>\n",
              "      <td>571.0</td>\n",
              "      <td>0</td>\n",
              "      <td>0</td>\n",
              "      <td>0.00175131</td>\n",
              "      <td>0.998249</td>\n",
              "      <td>False</td>\n",
              "    </tr>\n",
              "    <tr>\n",
              "      <th>523</th>\n",
              "      <td>11.0</td>\n",
              "      <td>3.487331e+02</td>\n",
              "      <td>3.0</td>\n",
              "      <td>0</td>\n",
              "      <td>0</td>\n",
              "      <td>0.333333</td>\n",
              "      <td>0.666667</td>\n",
              "      <td>False</td>\n",
              "    </tr>\n",
              "    <tr>\n",
              "      <th>524</th>\n",
              "      <td>11.0</td>\n",
              "      <td>8.906219e+03</td>\n",
              "      <td>166.0</td>\n",
              "      <td>0</td>\n",
              "      <td>0</td>\n",
              "      <td>0.0060241</td>\n",
              "      <td>0.993976</td>\n",
              "      <td>False</td>\n",
              "    </tr>\n",
              "    <tr>\n",
              "      <th>525</th>\n",
              "      <td>11.0</td>\n",
              "      <td>8.767298e+03</td>\n",
              "      <td>196.0</td>\n",
              "      <td>0</td>\n",
              "      <td>0</td>\n",
              "      <td>0.00510204</td>\n",
              "      <td>0.994898</td>\n",
              "      <td>False</td>\n",
              "    </tr>\n",
              "    <tr>\n",
              "      <th>526</th>\n",
              "      <td>11.0</td>\n",
              "      <td>6.325643e+03</td>\n",
              "      <td>125.0</td>\n",
              "      <td>0</td>\n",
              "      <td>0</td>\n",
              "      <td>0.008</td>\n",
              "      <td>0.992</td>\n",
              "      <td>False</td>\n",
              "    </tr>\n",
              "    <tr>\n",
              "      <th>527</th>\n",
              "      <td>11.0</td>\n",
              "      <td>3.628505e+03</td>\n",
              "      <td>88.0</td>\n",
              "      <td>0</td>\n",
              "      <td>0</td>\n",
              "      <td>0.0113636</td>\n",
              "      <td>0.988636</td>\n",
              "      <td>False</td>\n",
              "    </tr>\n",
              "    <tr>\n",
              "      <th>528</th>\n",
              "      <td>12.0</td>\n",
              "      <td>4.878360e+04</td>\n",
              "      <td>990.0</td>\n",
              "      <td>0</td>\n",
              "      <td>0</td>\n",
              "      <td>0.0010101</td>\n",
              "      <td>1</td>\n",
              "      <td>False</td>\n",
              "    </tr>\n",
              "    <tr>\n",
              "      <th>529</th>\n",
              "      <td>12.0</td>\n",
              "      <td>6.172273e+04</td>\n",
              "      <td>1167.0</td>\n",
              "      <td>0</td>\n",
              "      <td>0</td>\n",
              "      <td>0.000856898</td>\n",
              "      <td>0.999143</td>\n",
              "      <td>False</td>\n",
              "    </tr>\n",
              "    <tr>\n",
              "      <th>530</th>\n",
              "      <td>12.0</td>\n",
              "      <td>1.207006e+05</td>\n",
              "      <td>2397.0</td>\n",
              "      <td>0</td>\n",
              "      <td>0</td>\n",
              "      <td>0.000417188</td>\n",
              "      <td>1</td>\n",
              "      <td>False</td>\n",
              "    </tr>\n",
              "    <tr>\n",
              "      <th>531</th>\n",
              "      <td>12.0</td>\n",
              "      <td>5.397146e+04</td>\n",
              "      <td>1044.0</td>\n",
              "      <td>0</td>\n",
              "      <td>0</td>\n",
              "      <td>0.000957854</td>\n",
              "      <td>1</td>\n",
              "      <td>False</td>\n",
              "    </tr>\n",
              "    <tr>\n",
              "      <th>532</th>\n",
              "      <td>12.0</td>\n",
              "      <td>1.026984e+05</td>\n",
              "      <td>2074.0</td>\n",
              "      <td>0</td>\n",
              "      <td>0</td>\n",
              "      <td>0.00048216</td>\n",
              "      <td>0.999518</td>\n",
              "      <td>False</td>\n",
              "    </tr>\n",
              "    <tr>\n",
              "      <th>533</th>\n",
              "      <td>1.0</td>\n",
              "      <td>1.606646e+06</td>\n",
              "      <td>20000.0</td>\n",
              "      <td>0</td>\n",
              "      <td>0</td>\n",
              "      <td>1</td>\n",
              "      <td>0.08</td>\n",
              "      <td>True</td>\n",
              "    </tr>\n",
              "    <tr>\n",
              "      <th>534</th>\n",
              "      <td>1.0</td>\n",
              "      <td>1.598914e+06</td>\n",
              "      <td>20000.0</td>\n",
              "      <td>0</td>\n",
              "      <td>0</td>\n",
              "      <td>0.6979</td>\n",
              "      <td>0.4836</td>\n",
              "      <td>True</td>\n",
              "    </tr>\n",
              "    <tr>\n",
              "      <th>535</th>\n",
              "      <td>1.0</td>\n",
              "      <td>1.614104e+06</td>\n",
              "      <td>20000.0</td>\n",
              "      <td>0</td>\n",
              "      <td>0</td>\n",
              "      <td>0.97745</td>\n",
              "      <td>0.13025</td>\n",
              "      <td>True</td>\n",
              "    </tr>\n",
              "    <tr>\n",
              "      <th>536</th>\n",
              "      <td>1.0</td>\n",
              "      <td>1.612132e+06</td>\n",
              "      <td>20000.0</td>\n",
              "      <td>0</td>\n",
              "      <td>0</td>\n",
              "      <td>1</td>\n",
              "      <td>0.01575</td>\n",
              "      <td>True</td>\n",
              "    </tr>\n",
              "    <tr>\n",
              "      <th>537</th>\n",
              "      <td>1.0</td>\n",
              "      <td>4.435113e+05</td>\n",
              "      <td>5498.0</td>\n",
              "      <td>0</td>\n",
              "      <td>0.000181884</td>\n",
              "      <td>0.999818</td>\n",
              "      <td>0.652965</td>\n",
              "      <td>False</td>\n",
              "    </tr>\n",
              "  </tbody>\n",
              "</table>\n",
              "</div>"
            ],
            "text/plain": [
              "     parameters_index           tau  ...  Mafb_freq measurements_exceeded\n",
              "518              10.0  3.487331e+02  ...   0.666667                 False\n",
              "519              10.0  3.695114e+03  ...          1                 False\n",
              "520              10.0  4.286411e+02  ...          1                 False\n",
              "521              10.0  2.088521e+02  ...          1                 False\n",
              "522              10.0  2.726614e+04  ...   0.998249                 False\n",
              "523              11.0  3.487331e+02  ...   0.666667                 False\n",
              "524              11.0  8.906219e+03  ...   0.993976                 False\n",
              "525              11.0  8.767298e+03  ...   0.994898                 False\n",
              "526              11.0  6.325643e+03  ...      0.992                 False\n",
              "527              11.0  3.628505e+03  ...   0.988636                 False\n",
              "528              12.0  4.878360e+04  ...          1                 False\n",
              "529              12.0  6.172273e+04  ...   0.999143                 False\n",
              "530              12.0  1.207006e+05  ...          1                 False\n",
              "531              12.0  5.397146e+04  ...          1                 False\n",
              "532              12.0  1.026984e+05  ...   0.999518                 False\n",
              "533               1.0  1.606646e+06  ...       0.08                  True\n",
              "534               1.0  1.598914e+06  ...     0.4836                  True\n",
              "535               1.0  1.614104e+06  ...    0.13025                  True\n",
              "536               1.0  1.612132e+06  ...    0.01575                  True\n",
              "537               1.0  4.435113e+05  ...   0.652965                 False\n",
              "\n",
              "[20 rows x 8 columns]"
            ]
          },
          "metadata": {
            "tags": []
          },
          "execution_count": 240
        }
      ]
    },
    {
      "cell_type": "code",
      "metadata": {
        "colab": {
          "base_uri": "https://localhost:8080/",
          "height": 580
        },
        "id": "fYzB5BdUJYUB",
        "outputId": "cb411f73-19fa-4341-ac7a-ee3501d081dc"
      },
      "source": [
        "simulation_index = list(range(533, 538))\n",
        "\n",
        "plt.figure(figsize=(20,10), dpi=100)\n",
        "\n",
        "for i, index in enumerate(simulation_index):\n",
        "  plt.subplot(2, 3, i+1)\n",
        "  plt.title(\"Simulation \"+str(index))\n",
        "  freq = [simulations_results[phen+\"_freq\"][index] for phen in genotype_networks_4phen.keys()]\n",
        "  plt.bar([phen for phen in genotype_networks_4phen.keys()], freq)\n",
        "\n",
        "plt.show()"
      ],
      "execution_count": null,
      "outputs": [
        {
          "output_type": "display_data",
          "data": {
            "image/png": "[encoded data removed]",
            "text/plain": [
              "<Figure size 2000x1000 with 5 Axes>"
            ]
          },
          "metadata": {
            "tags": [],
            "needs_background": "light"
          }
        }
      ]
    },
    {
      "cell_type": "markdown",
      "metadata": {
        "id": "C292-OOHBb3w"
      },
      "source": [
        "## Evolution paths analysis"
      ]
    },
    {
      "cell_type": "markdown",
      "metadata": {
        "id": "AjT8JewXBqnC"
      },
      "source": [
        "Read all evolution paths or a given one"
      ]
    },
    {
      "cell_type": "code",
      "metadata": {
        "id": "VD2SGOOHBi_z"
      },
      "source": [
        "def allEvolutionPaths():\n",
        "  # return in a dictionary with keys the simulations index and saves the evolution paths\n",
        "  all_evolution_paths = {}\n",
        "  files = ls(\"/content/drive/My Drive/Thesis/Code/newData/paperBased/gspace_4phen/evolution_paths_QW/\")\n",
        "\n",
        "  for file in files:\n",
        "    all_evolution_paths[int(file[:-4])] = pd.read_csv(\"/content/drive/My Drive/Thesis/Code/newData/paperBased/gspace_4phen/\"\n",
        "      +\"evolution_paths_QW/\"+file, index_col=0)\n",
        "    \n",
        "  return all_evolution_paths\n",
        "\n",
        "def evolutionPath(simulation_index):\n",
        "  return pd.read_csv(\"/content/drive/My Drive/Thesis/Code/newData/paperBased/gspace_4phen/evolution_paths_QW/\"+\n",
        "                               str(simulation_index)+\".csv\", index_col=0)"
      ],
      "execution_count": 176,
      "outputs": []
    },
    {
      "cell_type": "code",
      "metadata": {
        "id": "FJJglOwzDbPx"
      },
      "source": [
        "all_evolution_paths = allEvolutionPaths()"
      ],
      "execution_count": 177,
      "outputs": []
    },
    {
      "cell_type": "code",
      "metadata": {
        "id": "CPF0MfBZDhwB"
      },
      "source": [
        "evolution_path0 = evolutionPath(0)"
      ],
      "execution_count": 178,
      "outputs": []
    },
    {
      "cell_type": "code",
      "metadata": {
        "colab": {
          "base_uri": "https://localhost:8080/",
          "height": 423
        },
        "id": "mDLqVFWrdAAf",
        "outputId": "48f852ba-67d0-4c87-e5f9-b35231ac256c"
      },
      "source": [
        "all_evolution_paths[0]"
      ],
      "execution_count": 179,
      "outputs": [
        {
          "output_type": "execute_result",
          "data": {
            "text/html": [
              "<div>\n",
              "<style scoped>\n",
              "    .dataframe tbody tr th:only-of-type {\n",
              "        vertical-align: middle;\n",
              "    }\n",
              "\n",
              "    .dataframe tbody tr th {\n",
              "        vertical-align: top;\n",
              "    }\n",
              "\n",
              "    .dataframe thead th {\n",
              "        text-align: right;\n",
              "    }\n",
              "</style>\n",
              "<table border=\"1\" class=\"dataframe\">\n",
              "  <thead>\n",
              "    <tr style=\"text-align: right;\">\n",
              "      <th></th>\n",
              "      <th>holding time</th>\n",
              "      <th>accumulated time</th>\n",
              "      <th>genotype index</th>\n",
              "      <th>genotype sequence</th>\n",
              "      <th>Ascl2 freq.</th>\n",
              "      <th>Bbx freq.</th>\n",
              "      <th>Foxa2 freq.</th>\n",
              "      <th>Mafb freq.</th>\n",
              "    </tr>\n",
              "  </thead>\n",
              "  <tbody>\n",
              "    <tr>\n",
              "      <th>0</th>\n",
              "      <td>0.000000</td>\n",
              "      <td>0.000000</td>\n",
              "      <td>552</td>\n",
              "      <td>ATGAAAAA</td>\n",
              "      <td>0.0</td>\n",
              "      <td>0.0</td>\n",
              "      <td>0.000000</td>\n",
              "      <td>1.000000</td>\n",
              "    </tr>\n",
              "    <tr>\n",
              "      <th>1</th>\n",
              "      <td>4.530709</td>\n",
              "      <td>4.530709</td>\n",
              "      <td>552</td>\n",
              "      <td>ATGAAAAA</td>\n",
              "      <td>0.0</td>\n",
              "      <td>0.0</td>\n",
              "      <td>0.000000</td>\n",
              "      <td>1.000000</td>\n",
              "    </tr>\n",
              "    <tr>\n",
              "      <th>2</th>\n",
              "      <td>47.924004</td>\n",
              "      <td>52.454714</td>\n",
              "      <td>552</td>\n",
              "      <td>ATGAAAAA</td>\n",
              "      <td>0.0</td>\n",
              "      <td>0.0</td>\n",
              "      <td>0.000000</td>\n",
              "      <td>1.000000</td>\n",
              "    </tr>\n",
              "    <tr>\n",
              "      <th>3</th>\n",
              "      <td>42.701525</td>\n",
              "      <td>95.156238</td>\n",
              "      <td>552</td>\n",
              "      <td>ATGAAAAA</td>\n",
              "      <td>0.0</td>\n",
              "      <td>0.0</td>\n",
              "      <td>0.000000</td>\n",
              "      <td>1.000000</td>\n",
              "    </tr>\n",
              "    <tr>\n",
              "      <th>4</th>\n",
              "      <td>30.087254</td>\n",
              "      <td>125.243492</td>\n",
              "      <td>552</td>\n",
              "      <td>ATGAAAAA</td>\n",
              "      <td>0.0</td>\n",
              "      <td>0.0</td>\n",
              "      <td>0.000000</td>\n",
              "      <td>1.000000</td>\n",
              "    </tr>\n",
              "    <tr>\n",
              "      <th>...</th>\n",
              "      <td>...</td>\n",
              "      <td>...</td>\n",
              "      <td>...</td>\n",
              "      <td>...</td>\n",
              "      <td>...</td>\n",
              "      <td>...</td>\n",
              "      <td>...</td>\n",
              "      <td>...</td>\n",
              "    </tr>\n",
              "    <tr>\n",
              "      <th>4996</th>\n",
              "      <td>88.302397</td>\n",
              "      <td>253137.555930</td>\n",
              "      <td>376</td>\n",
              "      <td>AAATAATT</td>\n",
              "      <td>0.0</td>\n",
              "      <td>0.0</td>\n",
              "      <td>0.605084</td>\n",
              "      <td>0.394916</td>\n",
              "    </tr>\n",
              "    <tr>\n",
              "      <th>4997</th>\n",
              "      <td>30.151671</td>\n",
              "      <td>253167.707601</td>\n",
              "      <td>376</td>\n",
              "      <td>AAATAATT</td>\n",
              "      <td>0.0</td>\n",
              "      <td>0.0</td>\n",
              "      <td>0.605163</td>\n",
              "      <td>0.394837</td>\n",
              "    </tr>\n",
              "    <tr>\n",
              "      <th>4998</th>\n",
              "      <td>199.753325</td>\n",
              "      <td>253367.460926</td>\n",
              "      <td>376</td>\n",
              "      <td>AAATAATT</td>\n",
              "      <td>0.0</td>\n",
              "      <td>0.0</td>\n",
              "      <td>0.605242</td>\n",
              "      <td>0.394758</td>\n",
              "    </tr>\n",
              "    <tr>\n",
              "      <th>4999</th>\n",
              "      <td>76.834697</td>\n",
              "      <td>253444.295623</td>\n",
              "      <td>376</td>\n",
              "      <td>AAATAATT</td>\n",
              "      <td>0.0</td>\n",
              "      <td>0.0</td>\n",
              "      <td>0.605321</td>\n",
              "      <td>0.394679</td>\n",
              "    </tr>\n",
              "    <tr>\n",
              "      <th>5000</th>\n",
              "      <td>13.393280</td>\n",
              "      <td>253457.688903</td>\n",
              "      <td>376</td>\n",
              "      <td>AAATAATT</td>\n",
              "      <td>0.0</td>\n",
              "      <td>0.0</td>\n",
              "      <td>0.605400</td>\n",
              "      <td>0.394600</td>\n",
              "    </tr>\n",
              "  </tbody>\n",
              "</table>\n",
              "<p>5001 rows × 8 columns</p>\n",
              "</div>"
            ],
            "text/plain": [
              "      holding time  accumulated time  ...  Foxa2 freq. Mafb freq.\n",
              "0         0.000000          0.000000  ...     0.000000   1.000000\n",
              "1         4.530709          4.530709  ...     0.000000   1.000000\n",
              "2        47.924004         52.454714  ...     0.000000   1.000000\n",
              "3        42.701525         95.156238  ...     0.000000   1.000000\n",
              "4        30.087254        125.243492  ...     0.000000   1.000000\n",
              "...            ...               ...  ...          ...        ...\n",
              "4996     88.302397     253137.555930  ...     0.605084   0.394916\n",
              "4997     30.151671     253167.707601  ...     0.605163   0.394837\n",
              "4998    199.753325     253367.460926  ...     0.605242   0.394758\n",
              "4999     76.834697     253444.295623  ...     0.605321   0.394679\n",
              "5000     13.393280     253457.688903  ...     0.605400   0.394600\n",
              "\n",
              "[5001 rows x 8 columns]"
            ]
          },
          "metadata": {
            "tags": []
          },
          "execution_count": 179
        }
      ]
    },
    {
      "cell_type": "markdown",
      "metadata": {
        "id": "bQ1uFI_yPQgJ"
      },
      "source": [
        "# Classic evolution (CTRW)"
      ]
    },
    {
      "cell_type": "markdown",
      "metadata": {
        "id": "Rq0f4lxGkhGR"
      },
      "source": [
        "### Auxiliar functions"
      ]
    },
    {
      "cell_type": "code",
      "metadata": {
        "id": "o0Gg9AZC-ibB"
      },
      "source": [
        "def infinitesimalGenerator(G, gamma):\n",
        "  # gamma is the mutation rate \n",
        "\n",
        "  A = nx.laplacian_matrix(G)\n",
        "  H = -gamma* A\n",
        "\n",
        "  return H"
      ],
      "execution_count": 28,
      "outputs": []
    },
    {
      "cell_type": "code",
      "metadata": {
        "id": "ZgMEgrAGj2QL"
      },
      "source": [
        "def nextState(states, i, Q):\n",
        "  # choose next state to jump to from the i-th row of the jump process transition matrix\n",
        "  # states are the set of state of the random walk\n",
        "  # i is the actual state\n",
        "  # Q is the infinitesimal generator of the continuous random walk\n",
        "  probs = [-Q[i, j]/Q[i, i] for j in states]\n",
        "  probs[i] = 0 \n",
        "\n",
        "  return np.random.choice(states, p = probs)"
      ],
      "execution_count": 72,
      "outputs": []
    },
    {
      "cell_type": "code",
      "metadata": {
        "colab": {
          "base_uri": "https://localhost:8080/"
        },
        "id": "GnaUuSed1PSA",
        "outputId": "13b528a6-1f31-45ae-8986-a5ac8f80819b"
      },
      "source": [
        "for j in gspace_4phen.nodes:\n",
        "  if probs[j] < 0:\n",
        "    print(j, probs[j])"
      ],
      "execution_count": 70,
      "outputs": [
        {
          "output_type": "stream",
          "text": [
            "0 -1.0\n"
          ],
          "name": "stdout"
        }
      ]
    },
    {
      "cell_type": "markdown",
      "metadata": {
        "id": "falCrmd5lUdM"
      },
      "source": [
        "### Write and reading\n",
        "\n"
      ]
    },
    {
      "cell_type": "code",
      "metadata": {
        "id": "51Dz59lMlUdQ"
      },
      "source": [
        "#parameters_c = pd.DataFrame(columns=['initial_phen', 'initial_gen', 'initial_gen_index', 'max_jumps', 'transition_rate'])"
      ],
      "execution_count": null,
      "outputs": []
    },
    {
      "cell_type": "code",
      "metadata": {
        "id": "p9EhzxGrlUdT"
      },
      "source": [
        "#estimations_results_c = pd.DataFrame(columns=['tau_Ascl2_prom (seconds)', 'tau_Ascl2_prom (days)', 'N_Ascl2_prom', \n",
        "#                  'tau_Bbx_prom (seconds)', 'tau_Bbx_prom (days)', 'N_Bbx_prom', 'tau_Mafb_prom (seconds)', \n",
        "#                  'tau_Mafb_prom (days)', 'N_Mafb_prom', 'tau_Foxa2_prom (seconds)', 'tau_Foxa2_prom (days)', 'N_Foxa2_prom'])\n",
        "\n",
        "#simulations_results_c = pd.DataFrame(columns =['parameters_index', 'tau_Ascl2', \"tau_Bbx\", \"tau_Foxa2\", \"tau_Mafb\", 'N_Ascl2', \n",
        "#                  \"N_Bbx\", \"N_Foxa2\", \"N_Mafb\"])"
      ],
      "execution_count": null,
      "outputs": []
    },
    {
      "cell_type": "markdown",
      "metadata": {
        "id": "ECO6mJQAlUdX"
      },
      "source": [
        "Read last results"
      ]
    },
    {
      "cell_type": "code",
      "metadata": {
        "id": "oGQqP-2SlUdZ"
      },
      "source": [
        "parameters_c = pd.read_csv(\"/content/drive/My Drive/Thesis/Code/newData/paperBased/gspace_4phen/CW_parameters.csv\", index_col=0)\n",
        "simulations_results_c = pd.read_csv(\"/content/drive/My Drive/Thesis/Code/newData/paperBased/gspace_4phen/CW_simulations_results.csv\", index_col=0)\n",
        "estimations_results_c = pd.read_csv(\"/content/drive/My Drive/Thesis/Code/newData/paperBased/gspace_4phen/CW_estimation_results.csv\", index_col=0)"
      ],
      "execution_count": 30,
      "outputs": []
    },
    {
      "cell_type": "code",
      "metadata": {
        "colab": {
          "base_uri": "https://localhost:8080/",
          "height": 49
        },
        "id": "rJPj4pUtlUdb",
        "outputId": "d5bcb685-f8db-4543-e6ba-c10a5956aa1c"
      },
      "source": [
        "simulations_results_c"
      ],
      "execution_count": 31,
      "outputs": [
        {
          "output_type": "execute_result",
          "data": {
            "text/html": [
              "<div>\n",
              "<style scoped>\n",
              "    .dataframe tbody tr th:only-of-type {\n",
              "        vertical-align: middle;\n",
              "    }\n",
              "\n",
              "    .dataframe tbody tr th {\n",
              "        vertical-align: top;\n",
              "    }\n",
              "\n",
              "    .dataframe thead th {\n",
              "        text-align: right;\n",
              "    }\n",
              "</style>\n",
              "<table border=\"1\" class=\"dataframe\">\n",
              "  <thead>\n",
              "    <tr style=\"text-align: right;\">\n",
              "      <th></th>\n",
              "      <th>parameters_index</th>\n",
              "      <th>tau_Ascl2</th>\n",
              "      <th>tau_Bbx</th>\n",
              "      <th>tau_Foxa2</th>\n",
              "      <th>tau_Mafb</th>\n",
              "      <th>N_Ascl2</th>\n",
              "      <th>N_Bbx</th>\n",
              "      <th>N_Foxa2</th>\n",
              "      <th>N_Mafb</th>\n",
              "    </tr>\n",
              "  </thead>\n",
              "  <tbody>\n",
              "  </tbody>\n",
              "</table>\n",
              "</div>"
            ],
            "text/plain": [
              "Empty DataFrame\n",
              "Columns: [parameters_index, tau_Ascl2, tau_Bbx, tau_Foxa2, tau_Mafb, N_Ascl2, N_Bbx, N_Foxa2, N_Mafb]\n",
              "Index: []"
            ]
          },
          "metadata": {
            "tags": []
          },
          "execution_count": 31
        }
      ]
    },
    {
      "cell_type": "code",
      "metadata": {
        "colab": {
          "base_uri": "https://localhost:8080/",
          "height": 86
        },
        "id": "Gc48ZoMwlUdh",
        "outputId": "f12d9df6-b0a2-4c92-f347-809f32addbc2"
      },
      "source": [
        "estimations_results_c"
      ],
      "execution_count": 32,
      "outputs": [
        {
          "output_type": "execute_result",
          "data": {
            "text/html": [
              "<div>\n",
              "<style scoped>\n",
              "    .dataframe tbody tr th:only-of-type {\n",
              "        vertical-align: middle;\n",
              "    }\n",
              "\n",
              "    .dataframe tbody tr th {\n",
              "        vertical-align: top;\n",
              "    }\n",
              "\n",
              "    .dataframe thead th {\n",
              "        text-align: right;\n",
              "    }\n",
              "</style>\n",
              "<table border=\"1\" class=\"dataframe\">\n",
              "  <thead>\n",
              "    <tr style=\"text-align: right;\">\n",
              "      <th></th>\n",
              "      <th>tau_Ascl2_prom (seconds)</th>\n",
              "      <th>tau_Ascl2_prom (days)</th>\n",
              "      <th>N_Ascl2_prom</th>\n",
              "      <th>tau_Bbx_prom (seconds)</th>\n",
              "      <th>tau_Bbx_prom (days)</th>\n",
              "      <th>N_Bbx_prom</th>\n",
              "      <th>tau_Mafb_prom (seconds)</th>\n",
              "      <th>tau_Mafb_prom (days)</th>\n",
              "      <th>N_Mafb_prom</th>\n",
              "      <th>tau_Foxa2_prom (seconds)</th>\n",
              "      <th>tau_Foxa2_prom (days)</th>\n",
              "      <th>N_Foxa2_prom</th>\n",
              "    </tr>\n",
              "  </thead>\n",
              "  <tbody>\n",
              "  </tbody>\n",
              "</table>\n",
              "</div>"
            ],
            "text/plain": [
              "Empty DataFrame\n",
              "Columns: [tau_Ascl2_prom (seconds), tau_Ascl2_prom (days), N_Ascl2_prom, tau_Bbx_prom (seconds), tau_Bbx_prom (days), N_Bbx_prom, tau_Mafb_prom (seconds), tau_Mafb_prom (days), N_Mafb_prom, tau_Foxa2_prom (seconds), tau_Foxa2_prom (days), N_Foxa2_prom]\n",
              "Index: []"
            ]
          },
          "metadata": {
            "tags": []
          },
          "execution_count": 32
        }
      ]
    },
    {
      "cell_type": "code",
      "metadata": {
        "colab": {
          "base_uri": "https://localhost:8080/",
          "height": 80
        },
        "id": "lvcH4aC8lUdk",
        "outputId": "c0788840-96fb-42ba-d065-d803dd9a3c22"
      },
      "source": [
        "parameters_c"
      ],
      "execution_count": 33,
      "outputs": [
        {
          "output_type": "execute_result",
          "data": {
            "text/html": [
              "<div>\n",
              "<style scoped>\n",
              "    .dataframe tbody tr th:only-of-type {\n",
              "        vertical-align: middle;\n",
              "    }\n",
              "\n",
              "    .dataframe tbody tr th {\n",
              "        vertical-align: top;\n",
              "    }\n",
              "\n",
              "    .dataframe thead th {\n",
              "        text-align: right;\n",
              "    }\n",
              "</style>\n",
              "<table border=\"1\" class=\"dataframe\">\n",
              "  <thead>\n",
              "    <tr style=\"text-align: right;\">\n",
              "      <th></th>\n",
              "      <th>initial_phen</th>\n",
              "      <th>initial_gen</th>\n",
              "      <th>initial_gen_index</th>\n",
              "      <th>max_jumps</th>\n",
              "      <th>transition_rate</th>\n",
              "    </tr>\n",
              "  </thead>\n",
              "  <tbody>\n",
              "    <tr>\n",
              "      <th>0</th>\n",
              "      <td>Mafb</td>\n",
              "      <td>ATGAAAAA</td>\n",
              "      <td>552</td>\n",
              "      <td>5000</td>\n",
              "      <td>0.001</td>\n",
              "    </tr>\n",
              "  </tbody>\n",
              "</table>\n",
              "</div>"
            ],
            "text/plain": [
              "  initial_phen initial_gen  initial_gen_index  max_jumps  transition_rate\n",
              "0         Mafb    ATGAAAAA                552       5000            0.001"
            ]
          },
          "metadata": {
            "tags": []
          },
          "execution_count": 33
        }
      ]
    },
    {
      "cell_type": "markdown",
      "metadata": {
        "id": "ZmNKk88blUdn"
      },
      "source": [
        "Write results"
      ]
    },
    {
      "cell_type": "code",
      "metadata": {
        "id": "bzSFpeJglUdq"
      },
      "source": [
        "parameters_c.to_csv(\"/content/drive/My Drive/Thesis/Code/newData/paperBased/gspace_4phen/CW_parameters.csv\")\n",
        "simulations_results_c.to_csv(\"/content/drive/My Drive/Thesis/Code/newData/paperBased/gspace_4phen/CW_simulations_results.csv\")\n",
        "estimations_results_c.to_csv(\"/content/drive/My Drive/Thesis/Code/newData/paperBased/gspace_4phen/CW_estimation_results.csv\")"
      ],
      "execution_count": null,
      "outputs": []
    },
    {
      "cell_type": "markdown",
      "metadata": {
        "id": "15xGGtkm5h_U"
      },
      "source": [
        "### Choosing new parameters"
      ]
    },
    {
      "cell_type": "code",
      "metadata": {
        "id": "lSEuz_Ny5h_g"
      },
      "source": [
        "max_jumps = 5000 # maximum number of jumps in a simulation\n",
        "# McFadden and Al-Khalili (1999) estimated that it is between 1-100 seconds or more\n",
        "gamma = 10**(-3) # transition rate between neighbor nodes\n",
        "initial_phen = 'Mafb'"
      ],
      "execution_count": null,
      "outputs": []
    },
    {
      "cell_type": "code",
      "metadata": {
        "colab": {
          "base_uri": "https://localhost:8080/"
        },
        "id": "Z7suSDct5h_j",
        "outputId": "a084ea6f-b3ef-44cd-ac36-110d42a0c304"
      },
      "source": [
        "np.random.seed(2021)\n",
        "new_parameters = True\n",
        "initial_genotype =  randomInitialGenotype(initial_phen)\n",
        "initial_sequence = gspace_4phen.nodes[initial_genotype]['sequence']\n",
        "\n",
        "#initial_sequence = \"ACAAAAAA\"\n",
        "#initial_genotype = sequenceIndex(initial_sequence)\n",
        "\n",
        "print(initial_genotype)\n",
        "print(gspace_4phen.nodes[initial_genotype]['phenotypeName'])"
      ],
      "execution_count": null,
      "outputs": [
        {
          "output_type": "stream",
          "text": [
            "552\n",
            "['Mafb']\n"
          ],
          "name": "stdout"
        }
      ]
    },
    {
      "cell_type": "code",
      "metadata": {
        "id": "uwqF_TEp5h_p"
      },
      "source": [
        "parameters_c = parameters_c.append({'initial_phen': initial_phen, 'initial_gen': initial_sequence, 'initial_gen_index': int(initial_genotype), \n",
        "                                'max_jumps': int(max_jumps), 'transition_rate': gamma}, ignore_index=True)"
      ],
      "execution_count": null,
      "outputs": []
    },
    {
      "cell_type": "markdown",
      "metadata": {
        "id": "gUGiKZiM74dV"
      },
      "source": [
        "### Choosing old parameters"
      ]
    },
    {
      "cell_type": "code",
      "metadata": {
        "colab": {
          "base_uri": "https://localhost:8080/",
          "height": 80
        },
        "id": "eK2r6P3_74dZ",
        "outputId": "7a12ae56-af3a-40b3-83e8-daf3db980c69"
      },
      "source": [
        "parameters_c"
      ],
      "execution_count": 34,
      "outputs": [
        {
          "output_type": "execute_result",
          "data": {
            "text/html": [
              "<div>\n",
              "<style scoped>\n",
              "    .dataframe tbody tr th:only-of-type {\n",
              "        vertical-align: middle;\n",
              "    }\n",
              "\n",
              "    .dataframe tbody tr th {\n",
              "        vertical-align: top;\n",
              "    }\n",
              "\n",
              "    .dataframe thead th {\n",
              "        text-align: right;\n",
              "    }\n",
              "</style>\n",
              "<table border=\"1\" class=\"dataframe\">\n",
              "  <thead>\n",
              "    <tr style=\"text-align: right;\">\n",
              "      <th></th>\n",
              "      <th>initial_phen</th>\n",
              "      <th>initial_gen</th>\n",
              "      <th>initial_gen_index</th>\n",
              "      <th>max_jumps</th>\n",
              "      <th>transition_rate</th>\n",
              "    </tr>\n",
              "  </thead>\n",
              "  <tbody>\n",
              "    <tr>\n",
              "      <th>0</th>\n",
              "      <td>Mafb</td>\n",
              "      <td>ATGAAAAA</td>\n",
              "      <td>552</td>\n",
              "      <td>5000</td>\n",
              "      <td>0.001</td>\n",
              "    </tr>\n",
              "  </tbody>\n",
              "</table>\n",
              "</div>"
            ],
            "text/plain": [
              "  initial_phen initial_gen  initial_gen_index  max_jumps  transition_rate\n",
              "0         Mafb    ATGAAAAA                552       5000            0.001"
            ]
          },
          "metadata": {
            "tags": []
          },
          "execution_count": 34
        }
      ]
    },
    {
      "cell_type": "code",
      "metadata": {
        "id": "R9hqG_cN74de"
      },
      "source": [
        "parameters_index = 0"
      ],
      "execution_count": 35,
      "outputs": []
    },
    {
      "cell_type": "code",
      "metadata": {
        "colab": {
          "base_uri": "https://localhost:8080/"
        },
        "id": "yXKwX03o74dh",
        "outputId": "ba821b90-d894-4372-94d5-f517a13a764c"
      },
      "source": [
        "new_parameters = False\n",
        "max_jumps = parameters_c.loc[parameters_index]['max_jumps'] # maximum number of jumps in a simulation\n",
        "gamma = parameters_c.loc[parameters_index]['transition_rate'] # transition rate between neighbor nodes\n",
        "initial_phen = parameters_c.loc[parameters_index]['initial_phen']\n",
        "initial_genotype = parameters_c.loc[parameters_index]['initial_gen_index']\n",
        "print(initial_genotype)\n",
        "print(gspace_4phen.nodes[initial_genotype]['phenotypeName'])"
      ],
      "execution_count": 36,
      "outputs": [
        {
          "output_type": "stream",
          "text": [
            "552\n",
            "['Mafb']\n"
          ],
          "name": "stdout"
        }
      ]
    },
    {
      "cell_type": "markdown",
      "metadata": {
        "id": "EZT-HYqd9Yud"
      },
      "source": [
        "### Loading fix parameters"
      ]
    },
    {
      "cell_type": "code",
      "metadata": {
        "id": "6GLzE-Rg9Yuj"
      },
      "source": [
        "H = infinitesimalGenerator(gspace_4phen, gamma)\n",
        "M = gspace_4phen.number_of_nodes() # number of nodes and dimension of Hilbert space"
      ],
      "execution_count": 37,
      "outputs": []
    },
    {
      "cell_type": "code",
      "metadata": {
        "colab": {
          "base_uri": "https://localhost:8080/"
        },
        "id": "irO2ltdzvelD",
        "outputId": "02ca9395-a0fd-4e75-e9e5-900237951b9b"
      },
      "source": [
        "H[552, 552]"
      ],
      "execution_count": 50,
      "outputs": [
        {
          "output_type": "execute_result",
          "data": {
            "text/plain": [
              "-0.003"
            ]
          },
          "metadata": {
            "tags": []
          },
          "execution_count": 50
        }
      ]
    },
    {
      "cell_type": "markdown",
      "metadata": {
        "id": "EZQLw8wy-6h9"
      },
      "source": [
        "## Simulations"
      ]
    },
    {
      "cell_type": "code",
      "metadata": {
        "id": "7jQOZCsg-6iZ"
      },
      "source": [
        "simulations = 1 # number of simulations"
      ],
      "execution_count": 38,
      "outputs": []
    },
    {
      "cell_type": "code",
      "metadata": {
        "colab": {
          "base_uri": "https://localhost:8080/",
          "height": 80
        },
        "id": "SFblEppBedsN",
        "outputId": "e9ef7548-e64f-4e12-bd5c-fd60345fb3a3"
      },
      "source": [
        "simulations_results_c"
      ],
      "execution_count": 85,
      "outputs": [
        {
          "output_type": "execute_result",
          "data": {
            "text/html": [
              "<div>\n",
              "<style scoped>\n",
              "    .dataframe tbody tr th:only-of-type {\n",
              "        vertical-align: middle;\n",
              "    }\n",
              "\n",
              "    .dataframe tbody tr th {\n",
              "        vertical-align: top;\n",
              "    }\n",
              "\n",
              "    .dataframe thead th {\n",
              "        text-align: right;\n",
              "    }\n",
              "</style>\n",
              "<table border=\"1\" class=\"dataframe\">\n",
              "  <thead>\n",
              "    <tr style=\"text-align: right;\">\n",
              "      <th></th>\n",
              "      <th>parameters_index</th>\n",
              "      <th>tau_Ascl2</th>\n",
              "      <th>tau_Bbx</th>\n",
              "      <th>tau_Foxa2</th>\n",
              "      <th>tau_Mafb</th>\n",
              "      <th>N_Ascl2</th>\n",
              "      <th>N_Bbx</th>\n",
              "      <th>N_Foxa2</th>\n",
              "      <th>N_Mafb</th>\n",
              "    </tr>\n",
              "  </thead>\n",
              "  <tbody>\n",
              "    <tr>\n",
              "      <th>0</th>\n",
              "      <td>0.0</td>\n",
              "      <td>4.528002</td>\n",
              "      <td>0.980002</td>\n",
              "      <td>0.014932</td>\n",
              "      <td>0.0</td>\n",
              "      <td>793.0</td>\n",
              "      <td>141.0</td>\n",
              "      <td>2.0</td>\n",
              "      <td>0.0</td>\n",
              "    </tr>\n",
              "  </tbody>\n",
              "</table>\n",
              "</div>"
            ],
            "text/plain": [
              "   parameters_index  tau_Ascl2   tau_Bbx  ...  N_Bbx  N_Foxa2  N_Mafb\n",
              "0               0.0   4.528002  0.980002  ...  141.0      2.0     0.0\n",
              "\n",
              "[1 rows x 9 columns]"
            ]
          },
          "metadata": {
            "tags": []
          },
          "execution_count": 85
        }
      ]
    },
    {
      "cell_type": "code",
      "metadata": {
        "colab": {
          "base_uri": "https://localhost:8080/"
        },
        "id": "218Y4vq6-6if",
        "outputId": "e39724d0-e717-4d8d-8500-086fec836d09"
      },
      "source": [
        "if new_parameters:\n",
        "  parameters_index = len(parameters_c)-1\n",
        "\n",
        "tau = {} # estimation of tau (hitting time) for every phenotype \n",
        "# Time it takes quantum walk to find given phenotype\n",
        "\n",
        "N = {} # estimation of N \n",
        "# number of jumps the random walk takes to find a genotype with a new phenotype\n",
        "\n",
        "phenotype_frequency = {} # for saving phenotype frequency in evolution path\n",
        "evolution_path_columns = [\"holding time\", \"accumulated time\", \"genotype index\", \"genotype sequence\"]\n",
        "\n",
        "for phen in genotype_networks_4phen.keys():\n",
        "  evolution_path_columns.append(phen + \" freq.\")\n",
        "\n",
        "for i in range(simulations):\n",
        "  print('Start of simulation', i+1, '/', simulations)\n",
        "  jump = 0\n",
        "  time = 0\n",
        "  \n",
        "  #initialization\n",
        "  for phen in genotype_networks_4phen.keys():\n",
        "    tau[phen] = -1\n",
        "    N[phen] = -1\n",
        "\n",
        "  evolution_path = pd.DataFrame(columns=evolution_path_columns) # indices of genotypes of the evolution \n",
        "  actual_state = initial_genotype \n",
        "\n",
        "  evolution_path_aux = {}\n",
        "  # phenotypes of actual state\n",
        "  phenotypes_actual_state = gspace_4phen.nodes[actual_state]['phenotypeName']\n",
        "  # the other phenotypes in genotype space\n",
        "  phenotypes_actual_state_complement = set(genotype_networks_4phen.keys()).difference(set(phenotypes_actual_state))\n",
        "\n",
        "  for phen in phenotypes_actual_state:\n",
        "    evolution_path_aux[phen+\" freq.\"] = 1.0\n",
        "\n",
        "  for phen in phenotypes_actual_state_complement:\n",
        "    evolution_path_aux[phen+\" freq.\"] = 0.0\n",
        "\n",
        "  evolution_path_aux['holding time'] = 0.0\n",
        "  evolution_path_aux['accumulated time'] = 0.0\n",
        "  evolution_path_aux['genotype index'] = int(initial_genotype)\n",
        "  evolution_path_aux['genotype sequence'] = gspace_4phen.nodes[initial_genotype]['sequence']\n",
        "\n",
        "  evolution_path = evolution_path.append(evolution_path_aux, ignore_index=True)\n",
        "\n",
        "  while jump < max_jumps:\n",
        "    for phen in phenotypes_actual_state:\n",
        "      if tau[phen] < 0: # update hitting times of novel phenotypes\n",
        "        tau[phen] = time\n",
        "        N[phen] = jump\n",
        "\n",
        "    T = expon.rvs(scale = -H[actual_state, actual_state], size=1)[0] # sample of exponential distribution\n",
        "\n",
        "    evolution_path_aux['holding time'] = T\n",
        "    evolution_path_aux['accumulated time'] = T+time\n",
        "\n",
        "    for phen in phenotypes_actual_state:\n",
        "      evolution_path_aux[phen+\" freq.\"] = (evolution_path[phen+\" freq.\"][jump]*time+T)/(time+T)\n",
        "\n",
        "    for phen in phenotypes_actual_state_complement:\n",
        "      evolution_path_aux[phen+\" freq.\"] = (evolution_path[phen+\" freq.\"][jump]*time)/(time+T)\n",
        "    \n",
        "    # choice next random state\n",
        "    actual_state = nextState(list(gspace_4phen.nodes), actual_state, H)\n",
        "    evolution_path_aux['genotype index'] = actual_state\n",
        "    evolution_path_aux['genotype sequence'] = gspace_4phen.nodes[actual_state]['sequence']\n",
        "\n",
        "    evolution_path = evolution_path.append(evolution_path_aux, ignore_index=True)\n",
        "\n",
        "    # phenotypes of actual state\n",
        "    phenotypes_actual_state = gspace_4phen.nodes[actual_state]['phenotypeName']\n",
        "    # the other phenotypes in genotype space\n",
        "    phenotypes_actual_state_complement = set(genotype_networks_4phen.keys()).difference(set(phenotypes_actual_state))\n",
        "    \n",
        "    time += T\n",
        "    jump += 1\n",
        "    \n",
        "    if jump % 1000 == 0:\n",
        "      print(\"Jump number\", jump)\n",
        "      print(\"Accumulated time\", time)\n",
        "  \n",
        "  print(\"End of simulation\", i+1)\n",
        "    \n",
        "  simulations_results_aux = {'parameters_index': int(parameters_index)}\n",
        "\n",
        "  for phen in genotype_networks_4phen.keys():\n",
        "    simulations_results_aux['tau_'+phen] = tau[phen]\n",
        "    simulations_results_aux['N_'+phen] = N[phen]\n",
        "\n",
        "\n",
        "  simulations_results_c = simulations_results_c.append(simulations_results_aux, ignore_index=True)\n",
        "  evolution_path.to_csv(\"/content/drive/My Drive/Thesis/Code/newData/paperBased/gspace_4phen/evolution_paths_CW/\"+\n",
        "                                   str(len(simulations_results_c)-1)+\".csv\")\n",
        "  \n",
        "# writing results of simulations\n",
        "simulations_results_c.to_csv(\"/content/drive/My Drive/Thesis/Code/newData/paperBased/gspace_4phen/CW_simulations_results.csv\")"
      ],
      "execution_count": 74,
      "outputs": [
        {
          "output_type": "stream",
          "text": [
            "Start of simulation 1 / 1\n",
            "Jump number 1000\n",
            "Accumulated time 5.756654014692395\n",
            "Jump number 2000\n",
            "Accumulated time 10.71734385079235\n",
            "Jump number 3000\n",
            "Accumulated time 16.3540353621498\n",
            "Jump number 4000\n",
            "Accumulated time 21.926935609469453\n",
            "Jump number 5000\n",
            "Accumulated time 27.074421116464816\n",
            "End of simulation 1\n"
          ],
          "name": "stdout"
        }
      ]
    },
    {
      "cell_type": "code",
      "metadata": {
        "colab": {
          "base_uri": "https://localhost:8080/",
          "height": 80
        },
        "id": "5wkLs5wn-6in",
        "outputId": "2969e16e-95d2-4199-af4e-8c6fd8173b13"
      },
      "source": [
        "parameters_c"
      ],
      "execution_count": 76,
      "outputs": [
        {
          "output_type": "execute_result",
          "data": {
            "text/html": [
              "<div>\n",
              "<style scoped>\n",
              "    .dataframe tbody tr th:only-of-type {\n",
              "        vertical-align: middle;\n",
              "    }\n",
              "\n",
              "    .dataframe tbody tr th {\n",
              "        vertical-align: top;\n",
              "    }\n",
              "\n",
              "    .dataframe thead th {\n",
              "        text-align: right;\n",
              "    }\n",
              "</style>\n",
              "<table border=\"1\" class=\"dataframe\">\n",
              "  <thead>\n",
              "    <tr style=\"text-align: right;\">\n",
              "      <th></th>\n",
              "      <th>initial_phen</th>\n",
              "      <th>initial_gen</th>\n",
              "      <th>initial_gen_index</th>\n",
              "      <th>max_jumps</th>\n",
              "      <th>transition_rate</th>\n",
              "    </tr>\n",
              "  </thead>\n",
              "  <tbody>\n",
              "    <tr>\n",
              "      <th>0</th>\n",
              "      <td>Mafb</td>\n",
              "      <td>ATGAAAAA</td>\n",
              "      <td>552</td>\n",
              "      <td>5000</td>\n",
              "      <td>0.001</td>\n",
              "    </tr>\n",
              "  </tbody>\n",
              "</table>\n",
              "</div>"
            ],
            "text/plain": [
              "  initial_phen initial_gen  initial_gen_index  max_jumps  transition_rate\n",
              "0         Mafb    ATGAAAAA                552       5000            0.001"
            ]
          },
          "metadata": {
            "tags": []
          },
          "execution_count": 76
        }
      ]
    },
    {
      "cell_type": "code",
      "metadata": {
        "colab": {
          "base_uri": "https://localhost:8080/",
          "height": 80
        },
        "id": "l3BaCH0z-6is",
        "outputId": "853c67c4-0321-468a-8bb9-5664b8550be2"
      },
      "source": [
        "simulations_results_c"
      ],
      "execution_count": 77,
      "outputs": [
        {
          "output_type": "execute_result",
          "data": {
            "text/html": [
              "<div>\n",
              "<style scoped>\n",
              "    .dataframe tbody tr th:only-of-type {\n",
              "        vertical-align: middle;\n",
              "    }\n",
              "\n",
              "    .dataframe tbody tr th {\n",
              "        vertical-align: top;\n",
              "    }\n",
              "\n",
              "    .dataframe thead th {\n",
              "        text-align: right;\n",
              "    }\n",
              "</style>\n",
              "<table border=\"1\" class=\"dataframe\">\n",
              "  <thead>\n",
              "    <tr style=\"text-align: right;\">\n",
              "      <th></th>\n",
              "      <th>parameters_index</th>\n",
              "      <th>tau_Ascl2</th>\n",
              "      <th>tau_Bbx</th>\n",
              "      <th>tau_Foxa2</th>\n",
              "      <th>tau_Mafb</th>\n",
              "      <th>N_Ascl2</th>\n",
              "      <th>N_Bbx</th>\n",
              "      <th>N_Foxa2</th>\n",
              "      <th>N_Mafb</th>\n",
              "    </tr>\n",
              "  </thead>\n",
              "  <tbody>\n",
              "    <tr>\n",
              "      <th>0</th>\n",
              "      <td>0.0</td>\n",
              "      <td>4.528002</td>\n",
              "      <td>0.980002</td>\n",
              "      <td>0.014932</td>\n",
              "      <td>0.0</td>\n",
              "      <td>793.0</td>\n",
              "      <td>141.0</td>\n",
              "      <td>2.0</td>\n",
              "      <td>0.0</td>\n",
              "    </tr>\n",
              "  </tbody>\n",
              "</table>\n",
              "</div>"
            ],
            "text/plain": [
              "   parameters_index  tau_Ascl2   tau_Bbx  ...  N_Bbx  N_Foxa2  N_Mafb\n",
              "0               0.0   4.528002  0.980002  ...  141.0      2.0     0.0\n",
              "\n",
              "[1 rows x 9 columns]"
            ]
          },
          "metadata": {
            "tags": []
          },
          "execution_count": 77
        }
      ]
    },
    {
      "cell_type": "markdown",
      "metadata": {
        "id": "6VrHcg-jXoE9"
      },
      "source": [
        "## Evolution paths analysis"
      ]
    },
    {
      "cell_type": "markdown",
      "metadata": {
        "id": "wj9RY5C1XoFV"
      },
      "source": [
        "Read all evolution paths or a given one"
      ]
    },
    {
      "cell_type": "code",
      "metadata": {
        "id": "pLjrsL85XoFZ"
      },
      "source": [
        "def allEvolutionPaths_c():\n",
        "  # return in a dictionary with keys the simulations index and saves the evolution paths\n",
        "  all_evolution_paths = {}\n",
        "  files = ls(\"/content/drive/My Drive/Thesis/Code/newData/paperBased/gspace_4phen/evolution_paths_CW/\")\n",
        "\n",
        "  for file in files:\n",
        "    all_evolution_paths[int(file[:-4])] = pd.read_csv(\"/content/drive/My Drive/Thesis/Code/newData/paperBased/gspace_4phen/evolution_paths_CW/\"+\n",
        "                               file, index_col=0)\n",
        "    \n",
        "  return all_evolution_paths\n",
        "\n",
        "def evolutionPath_c(simulation_index):\n",
        "  return pd.read_csv(\"/content/drive/My Drive/Thesis/Code/newData/paperBased/gspace_4phen/evolution_paths_CW/\"+\n",
        "                               str(simulation_index)+\".csv\", index_col=0)"
      ],
      "execution_count": 94,
      "outputs": []
    },
    {
      "cell_type": "code",
      "metadata": {
        "id": "6zQAbdtwXoFe"
      },
      "source": [
        "all_evolution_paths = allEvolutionPaths_c()"
      ],
      "execution_count": 98,
      "outputs": []
    },
    {
      "cell_type": "code",
      "metadata": {
        "colab": {
          "base_uri": "https://localhost:8080/"
        },
        "id": "3x99kTPbX6G3",
        "outputId": "a42eee83-ebe0-456c-e1ab-d6e4206bf227"
      },
      "source": [
        "type(all_evolution_paths[0])"
      ],
      "execution_count": 99,
      "outputs": [
        {
          "output_type": "execute_result",
          "data": {
            "text/plain": [
              "pandas.core.frame.DataFrame"
            ]
          },
          "metadata": {
            "tags": []
          },
          "execution_count": 99
        }
      ]
    },
    {
      "cell_type": "code",
      "metadata": {
        "id": "RzqiFoZGXoFi"
      },
      "source": [
        "evolution_path0 = evolutionPath_c(0)"
      ],
      "execution_count": 90,
      "outputs": []
    },
    {
      "cell_type": "code",
      "metadata": {
        "colab": {
          "base_uri": "https://localhost:8080/",
          "height": 423
        },
        "id": "1qz9_AisX_du",
        "outputId": "3ebc5d19-6db7-4f6b-9294-c72d56d94a49"
      },
      "source": [
        "evolution_path0"
      ],
      "execution_count": 91,
      "outputs": [
        {
          "output_type": "execute_result",
          "data": {
            "text/html": [
              "<div>\n",
              "<style scoped>\n",
              "    .dataframe tbody tr th:only-of-type {\n",
              "        vertical-align: middle;\n",
              "    }\n",
              "\n",
              "    .dataframe tbody tr th {\n",
              "        vertical-align: top;\n",
              "    }\n",
              "\n",
              "    .dataframe thead th {\n",
              "        text-align: right;\n",
              "    }\n",
              "</style>\n",
              "<table border=\"1\" class=\"dataframe\">\n",
              "  <thead>\n",
              "    <tr style=\"text-align: right;\">\n",
              "      <th></th>\n",
              "      <th>holding time</th>\n",
              "      <th>accumulated time</th>\n",
              "      <th>genotype index</th>\n",
              "      <th>genotype sequence</th>\n",
              "      <th>Ascl2 freq.</th>\n",
              "      <th>Bbx freq.</th>\n",
              "      <th>Foxa2 freq.</th>\n",
              "      <th>Mafb freq.</th>\n",
              "    </tr>\n",
              "  </thead>\n",
              "  <tbody>\n",
              "    <tr>\n",
              "      <th>0</th>\n",
              "      <td>0.000000</td>\n",
              "      <td>0.000000</td>\n",
              "      <td>552</td>\n",
              "      <td>ATGAAAAA</td>\n",
              "      <td>0.000000</td>\n",
              "      <td>0.000000</td>\n",
              "      <td>0.000000</td>\n",
              "      <td>1.000000</td>\n",
              "    </tr>\n",
              "    <tr>\n",
              "      <th>1</th>\n",
              "      <td>0.004194</td>\n",
              "      <td>0.004194</td>\n",
              "      <td>541</td>\n",
              "      <td>ATCAAAAA</td>\n",
              "      <td>0.000000</td>\n",
              "      <td>0.000000</td>\n",
              "      <td>0.000000</td>\n",
              "      <td>1.000000</td>\n",
              "    </tr>\n",
              "    <tr>\n",
              "      <th>2</th>\n",
              "      <td>0.010737</td>\n",
              "      <td>0.014932</td>\n",
              "      <td>259</td>\n",
              "      <td>ATCAAACA</td>\n",
              "      <td>0.000000</td>\n",
              "      <td>0.000000</td>\n",
              "      <td>0.000000</td>\n",
              "      <td>1.000000</td>\n",
              "    </tr>\n",
              "    <tr>\n",
              "      <th>3</th>\n",
              "      <td>0.000362</td>\n",
              "      <td>0.015294</td>\n",
              "      <td>541</td>\n",
              "      <td>ATCAAAAA</td>\n",
              "      <td>0.000000</td>\n",
              "      <td>0.000000</td>\n",
              "      <td>0.023679</td>\n",
              "      <td>0.976321</td>\n",
              "    </tr>\n",
              "    <tr>\n",
              "      <th>4</th>\n",
              "      <td>0.006710</td>\n",
              "      <td>0.022004</td>\n",
              "      <td>259</td>\n",
              "      <td>ATCAAACA</td>\n",
              "      <td>0.000000</td>\n",
              "      <td>0.000000</td>\n",
              "      <td>0.016458</td>\n",
              "      <td>0.983542</td>\n",
              "    </tr>\n",
              "    <tr>\n",
              "      <th>...</th>\n",
              "      <td>...</td>\n",
              "      <td>...</td>\n",
              "      <td>...</td>\n",
              "      <td>...</td>\n",
              "      <td>...</td>\n",
              "      <td>...</td>\n",
              "      <td>...</td>\n",
              "      <td>...</td>\n",
              "    </tr>\n",
              "    <tr>\n",
              "      <th>4996</th>\n",
              "      <td>0.011328</td>\n",
              "      <td>27.053835</td>\n",
              "      <td>467</td>\n",
              "      <td>AGTGTTTA</td>\n",
              "      <td>0.388713</td>\n",
              "      <td>0.040359</td>\n",
              "      <td>0.471756</td>\n",
              "      <td>0.127240</td>\n",
              "    </tr>\n",
              "    <tr>\n",
              "      <th>4997</th>\n",
              "      <td>0.007486</td>\n",
              "      <td>27.061320</td>\n",
              "      <td>252</td>\n",
              "      <td>ATTGTTTA</td>\n",
              "      <td>0.388606</td>\n",
              "      <td>0.040348</td>\n",
              "      <td>0.471903</td>\n",
              "      <td>0.127205</td>\n",
              "    </tr>\n",
              "    <tr>\n",
              "      <th>4998</th>\n",
              "      <td>0.009236</td>\n",
              "      <td>27.070556</td>\n",
              "      <td>366</td>\n",
              "      <td>ATTGTGTA</td>\n",
              "      <td>0.388473</td>\n",
              "      <td>0.040334</td>\n",
              "      <td>0.472083</td>\n",
              "      <td>0.127161</td>\n",
              "    </tr>\n",
              "    <tr>\n",
              "      <th>4999</th>\n",
              "      <td>0.002481</td>\n",
              "      <td>27.073038</td>\n",
              "      <td>363</td>\n",
              "      <td>ATTATGTA</td>\n",
              "      <td>0.388438</td>\n",
              "      <td>0.040331</td>\n",
              "      <td>0.472131</td>\n",
              "      <td>0.127150</td>\n",
              "    </tr>\n",
              "    <tr>\n",
              "      <th>5000</th>\n",
              "      <td>0.001384</td>\n",
              "      <td>27.074421</td>\n",
              "      <td>302</td>\n",
              "      <td>GTTATGTA</td>\n",
              "      <td>0.388418</td>\n",
              "      <td>0.040328</td>\n",
              "      <td>0.472158</td>\n",
              "      <td>0.127143</td>\n",
              "    </tr>\n",
              "  </tbody>\n",
              "</table>\n",
              "<p>5001 rows × 8 columns</p>\n",
              "</div>"
            ],
            "text/plain": [
              "      holding time  accumulated time  ...  Foxa2 freq. Mafb freq.\n",
              "0         0.000000          0.000000  ...     0.000000   1.000000\n",
              "1         0.004194          0.004194  ...     0.000000   1.000000\n",
              "2         0.010737          0.014932  ...     0.000000   1.000000\n",
              "3         0.000362          0.015294  ...     0.023679   0.976321\n",
              "4         0.006710          0.022004  ...     0.016458   0.983542\n",
              "...            ...               ...  ...          ...        ...\n",
              "4996      0.011328         27.053835  ...     0.471756   0.127240\n",
              "4997      0.007486         27.061320  ...     0.471903   0.127205\n",
              "4998      0.009236         27.070556  ...     0.472083   0.127161\n",
              "4999      0.002481         27.073038  ...     0.472131   0.127150\n",
              "5000      0.001384         27.074421  ...     0.472158   0.127143\n",
              "\n",
              "[5001 rows x 8 columns]"
            ]
          },
          "metadata": {
            "tags": []
          },
          "execution_count": 91
        }
      ]
    },
    {
      "cell_type": "markdown",
      "metadata": {
        "id": "UTotTRPiXoF0"
      },
      "source": [
        "### Analysis"
      ]
    },
    {
      "cell_type": "code",
      "metadata": {
        "colab": {
          "base_uri": "https://localhost:8080/"
        },
        "id": "eZbugQ6DXoF1",
        "outputId": "35e08441-e540-41f6-914f-b85933dfb4ab"
      },
      "source": [
        "distance(gspace_4phen.nodes[evolution_path0[0]]['sequence'], gspace_4phen.nodes[evolution_path0[151]]['sequence'])"
      ],
      "execution_count": null,
      "outputs": [
        {
          "output_type": "execute_result",
          "data": {
            "text/plain": [
              "1"
            ]
          },
          "metadata": {
            "tags": []
          },
          "execution_count": 96
        }
      ]
    }
  ]
}